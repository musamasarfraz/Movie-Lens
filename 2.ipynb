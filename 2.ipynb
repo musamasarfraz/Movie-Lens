{
 "cells": [
  {
   "cell_type": "markdown",
   "metadata": {
    "_cell_guid": "79c7e3d0-c299-4dcb-8224-4455121ee9b0",
    "_uuid": "d629ff2d2480ee46fbb7e2d37f6b5fab8052498a",
    "collapsed": true,
    "trusted": false
   },
   "source": [
    "# Data analysis 2"
   ]
  },
  {
   "cell_type": "markdown",
   "metadata": {
    "id": "cK5Jx8p4u5Z0"
   },
   "source": [
    "# 1 Importing libraries."
   ]
  },
  {
   "cell_type": "code",
   "execution_count": 1,
   "metadata": {
    "execution": {
     "iopub.execute_input": "2022-06-13T15:26:57.316436Z",
     "iopub.status.busy": "2022-06-13T15:26:57.316140Z",
     "iopub.status.idle": "2022-06-13T15:26:57.321693Z",
     "shell.execute_reply": "2022-06-13T15:26:57.320706Z",
     "shell.execute_reply.started": "2022-06-13T15:26:57.316412Z"
    },
    "executionInfo": {
     "elapsed": 34,
     "status": "ok",
     "timestamp": 1655128322096,
     "user": {
      "displayName": "Алексей Шаков",
      "userId": "08626621059682709172"
     },
     "user_tz": -180
    },
    "id": "TssoaHM9u5aC",
    "trusted": true
   },
   "outputs": [],
   "source": [
    "import pandas as pd\n",
    "import numpy as np\n",
    "import seaborn as sns\n",
    "import re\n",
    "import matplotlib.pyplot as plt\n",
    "import random as rd\n",
    "\n",
    "import warnings\n",
    "import random\n",
    "import pickle\n",
    "from tqdm import tqdm\n",
    "\n",
    "warnings.filterwarnings('ignore')"
   ]
  },
  {
   "cell_type": "markdown",
   "metadata": {
    "id": "Cf5ISrO7u5aD"
   },
   "source": [
    "# 2 Exploratory data analysis."
   ]
  },
  {
   "cell_type": "markdown",
   "metadata": {
    "id": "Ru08AvXsu5aE"
   },
   "source": [
    "## 2.1 dataset with information about films.\n"
   ]
  },
  {
   "cell_type": "code",
   "execution_count": 2,
   "metadata": {
    "execution": {
     "iopub.execute_input": "2022-06-13T15:27:07.292240Z",
     "iopub.status.busy": "2022-06-13T15:27:07.291915Z",
     "iopub.status.idle": "2022-06-13T15:27:07.382190Z",
     "shell.execute_reply": "2022-06-13T15:27:07.381436Z",
     "shell.execute_reply.started": "2022-06-13T15:27:07.292210Z"
    },
    "executionInfo": {
     "elapsed": 21,
     "status": "ok",
     "timestamp": 1655128331158,
     "user": {
      "displayName": "Алексей Шаков",
      "userId": "08626621059682709172"
     },
     "user_tz": -180
    },
    "id": "wcQKgZfou5aE",
    "outputId": "a1a27909-aec1-4743-fc9c-09676c0f7b02",
    "trusted": true
   },
   "outputs": [
    {
     "name": "stdout",
     "output_type": "stream",
     "text": [
      "The size of dataset is (87585, 3)\n"
     ]
    },
    {
     "data": {
      "text/html": [
       "<div>\n",
       "<style scoped>\n",
       "    .dataframe tbody tr th:only-of-type {\n",
       "        vertical-align: middle;\n",
       "    }\n",
       "\n",
       "    .dataframe tbody tr th {\n",
       "        vertical-align: top;\n",
       "    }\n",
       "\n",
       "    .dataframe thead th {\n",
       "        text-align: right;\n",
       "    }\n",
       "</style>\n",
       "<table border=\"1\" class=\"dataframe\">\n",
       "  <thead>\n",
       "    <tr style=\"text-align: right;\">\n",
       "      <th></th>\n",
       "      <th>movieId</th>\n",
       "      <th>title</th>\n",
       "      <th>genres</th>\n",
       "    </tr>\n",
       "  </thead>\n",
       "  <tbody>\n",
       "    <tr>\n",
       "      <th>0</th>\n",
       "      <td>1</td>\n",
       "      <td>Toy Story (1995)</td>\n",
       "      <td>Adventure|Animation|Children|Comedy|Fantasy</td>\n",
       "    </tr>\n",
       "    <tr>\n",
       "      <th>1</th>\n",
       "      <td>2</td>\n",
       "      <td>Jumanji (1995)</td>\n",
       "      <td>Adventure|Children|Fantasy</td>\n",
       "    </tr>\n",
       "    <tr>\n",
       "      <th>2</th>\n",
       "      <td>3</td>\n",
       "      <td>Grumpier Old Men (1995)</td>\n",
       "      <td>Comedy|Romance</td>\n",
       "    </tr>\n",
       "    <tr>\n",
       "      <th>3</th>\n",
       "      <td>4</td>\n",
       "      <td>Waiting to Exhale (1995)</td>\n",
       "      <td>Comedy|Drama|Romance</td>\n",
       "    </tr>\n",
       "    <tr>\n",
       "      <th>4</th>\n",
       "      <td>5</td>\n",
       "      <td>Father of the Bride Part II (1995)</td>\n",
       "      <td>Comedy</td>\n",
       "    </tr>\n",
       "  </tbody>\n",
       "</table>\n",
       "</div>"
      ],
      "text/plain": [
       "   movieId                               title  \\\n",
       "0        1                    Toy Story (1995)   \n",
       "1        2                      Jumanji (1995)   \n",
       "2        3             Grumpier Old Men (1995)   \n",
       "3        4            Waiting to Exhale (1995)   \n",
       "4        5  Father of the Bride Part II (1995)   \n",
       "\n",
       "                                        genres  \n",
       "0  Adventure|Animation|Children|Comedy|Fantasy  \n",
       "1                   Adventure|Children|Fantasy  \n",
       "2                               Comedy|Romance  \n",
       "3                         Comedy|Drama|Romance  \n",
       "4                                       Comedy  "
      ]
     },
     "execution_count": 2,
     "metadata": {},
     "output_type": "execute_result"
    }
   ],
   "source": [
    "movies_data = pd.read_csv(\"Dataset\\movies.csv\")\n",
    "print(\"The size of dataset is\", movies_data.shape)\n",
    "movies_data.head()"
   ]
  },
  {
   "cell_type": "code",
   "execution_count": 3,
   "metadata": {
    "execution": {
     "iopub.execute_input": "2022-06-13T15:27:07.384094Z",
     "iopub.status.busy": "2022-06-13T15:27:07.383562Z",
     "iopub.status.idle": "2022-06-13T15:27:07.409097Z",
     "shell.execute_reply": "2022-06-13T15:27:07.408362Z",
     "shell.execute_reply.started": "2022-06-13T15:27:07.384058Z"
    },
    "executionInfo": {
     "elapsed": 65,
     "status": "ok",
     "timestamp": 1655128331731,
     "user": {
      "displayName": "Алексей Шаков",
      "userId": "08626621059682709172"
     },
     "user_tz": -180
    },
    "id": "P2ysouQwu5aG",
    "outputId": "1f14d1a3-4096-404a-83ae-ecd9b12606e8",
    "trusted": true
   },
   "outputs": [
    {
     "name": "stdout",
     "output_type": "stream",
     "text": [
      "<class 'pandas.core.frame.DataFrame'>\n",
      "RangeIndex: 87585 entries, 0 to 87584\n",
      "Data columns (total 3 columns):\n",
      " #   Column   Non-Null Count  Dtype \n",
      "---  ------   --------------  ----- \n",
      " 0   movieId  87585 non-null  int64 \n",
      " 1   title    87585 non-null  object\n",
      " 2   genres   87585 non-null  object\n",
      "dtypes: int64(1), object(2)\n",
      "memory usage: 2.0+ MB\n"
     ]
    }
   ],
   "source": [
    "movies_data.info()"
   ]
  },
  {
   "cell_type": "markdown",
   "metadata": {
    "id": "TOGyTnk6u5aH"
   },
   "source": [
    "**Let's extract the year from the \"title\"**"
   ]
  },
  {
   "cell_type": "code",
   "execution_count": 4,
   "metadata": {
    "execution": {
     "iopub.execute_input": "2022-06-13T15:27:07.412016Z",
     "iopub.status.busy": "2022-06-13T15:27:07.411414Z",
     "iopub.status.idle": "2022-06-13T15:27:07.476435Z",
     "shell.execute_reply": "2022-06-13T15:27:07.475542Z",
     "shell.execute_reply.started": "2022-06-13T15:27:07.411978Z"
    },
    "executionInfo": {
     "elapsed": 45,
     "status": "ok",
     "timestamp": 1655128331733,
     "user": {
      "displayName": "Алексей Шаков",
      "userId": "08626621059682709172"
     },
     "user_tz": -180
    },
    "id": "CmyCqFuLu5aI",
    "outputId": "9fdc295a-264a-4337-f1e4-7d30462964d4",
    "trusted": true
   },
   "outputs": [
    {
     "data": {
      "text/html": [
       "<div>\n",
       "<style scoped>\n",
       "    .dataframe tbody tr th:only-of-type {\n",
       "        vertical-align: middle;\n",
       "    }\n",
       "\n",
       "    .dataframe tbody tr th {\n",
       "        vertical-align: top;\n",
       "    }\n",
       "\n",
       "    .dataframe thead th {\n",
       "        text-align: right;\n",
       "    }\n",
       "</style>\n",
       "<table border=\"1\" class=\"dataframe\">\n",
       "  <thead>\n",
       "    <tr style=\"text-align: right;\">\n",
       "      <th></th>\n",
       "      <th>movieId</th>\n",
       "      <th>title</th>\n",
       "      <th>genres</th>\n",
       "      <th>year_shot</th>\n",
       "    </tr>\n",
       "  </thead>\n",
       "  <tbody>\n",
       "    <tr>\n",
       "      <th>0</th>\n",
       "      <td>1</td>\n",
       "      <td>Toy Story (1995)</td>\n",
       "      <td>Adventure|Animation|Children|Comedy|Fantasy</td>\n",
       "      <td>1995</td>\n",
       "    </tr>\n",
       "    <tr>\n",
       "      <th>1</th>\n",
       "      <td>2</td>\n",
       "      <td>Jumanji (1995)</td>\n",
       "      <td>Adventure|Children|Fantasy</td>\n",
       "      <td>1995</td>\n",
       "    </tr>\n",
       "    <tr>\n",
       "      <th>2</th>\n",
       "      <td>3</td>\n",
       "      <td>Grumpier Old Men (1995)</td>\n",
       "      <td>Comedy|Romance</td>\n",
       "      <td>1995</td>\n",
       "    </tr>\n",
       "    <tr>\n",
       "      <th>3</th>\n",
       "      <td>4</td>\n",
       "      <td>Waiting to Exhale (1995)</td>\n",
       "      <td>Comedy|Drama|Romance</td>\n",
       "      <td>1995</td>\n",
       "    </tr>\n",
       "    <tr>\n",
       "      <th>4</th>\n",
       "      <td>5</td>\n",
       "      <td>Father of the Bride Part II (1995)</td>\n",
       "      <td>Comedy</td>\n",
       "      <td>1995</td>\n",
       "    </tr>\n",
       "  </tbody>\n",
       "</table>\n",
       "</div>"
      ],
      "text/plain": [
       "   movieId                               title  \\\n",
       "0        1                    Toy Story (1995)   \n",
       "1        2                      Jumanji (1995)   \n",
       "2        3             Grumpier Old Men (1995)   \n",
       "3        4            Waiting to Exhale (1995)   \n",
       "4        5  Father of the Bride Part II (1995)   \n",
       "\n",
       "                                        genres year_shot  \n",
       "0  Adventure|Animation|Children|Comedy|Fantasy      1995  \n",
       "1                   Adventure|Children|Fantasy      1995  \n",
       "2                               Comedy|Romance      1995  \n",
       "3                         Comedy|Drama|Romance      1995  \n",
       "4                                       Comedy      1995  "
      ]
     },
     "execution_count": 4,
     "metadata": {},
     "output_type": "execute_result"
    }
   ],
   "source": [
    "movies_data[\"year_shot\"] = movies_data[\"title\"].apply(lambda x: \"\".join(re.findall(r\"\\((\\d+)\\)+$\", x)))\n",
    "movies_data.head()"
   ]
  },
  {
   "cell_type": "code",
   "execution_count": 5,
   "metadata": {
    "execution": {
     "iopub.execute_input": "2022-06-13T15:27:07.478354Z",
     "iopub.status.busy": "2022-06-13T15:27:07.477975Z",
     "iopub.status.idle": "2022-06-13T15:27:07.494796Z",
     "shell.execute_reply": "2022-06-13T15:27:07.493912Z",
     "shell.execute_reply.started": "2022-06-13T15:27:07.478317Z"
    },
    "executionInfo": {
     "elapsed": 43,
     "status": "ok",
     "timestamp": 1655128331736,
     "user": {
      "displayName": "Алексей Шаков",
      "userId": "08626621059682709172"
     },
     "user_tz": -180
    },
    "id": "sK2vzkJ3u5aJ",
    "outputId": "6f498bd9-59ee-4155-b8f8-04e6e7802d50",
    "trusted": true
   },
   "outputs": [
    {
     "data": {
      "text/plain": [
       "movieId      0\n",
       "title        0\n",
       "genres       0\n",
       "year_shot    0\n",
       "dtype: int64"
      ]
     },
     "execution_count": 5,
     "metadata": {},
     "output_type": "execute_result"
    }
   ],
   "source": [
    "movies_data.isnull().sum()"
   ]
  },
  {
   "cell_type": "code",
   "execution_count": 6,
   "metadata": {
    "execution": {
     "iopub.execute_input": "2022-06-13T15:27:07.497334Z",
     "iopub.status.busy": "2022-06-13T15:27:07.496553Z",
     "iopub.status.idle": "2022-06-13T15:27:07.507127Z",
     "shell.execute_reply": "2022-06-13T15:27:07.506227Z",
     "shell.execute_reply.started": "2022-06-13T15:27:07.497273Z"
    },
    "executionInfo": {
     "elapsed": 35,
     "status": "ok",
     "timestamp": 1655128331739,
     "user": {
      "displayName": "Алексей Шаков",
      "userId": "08626621059682709172"
     },
     "user_tz": -180
    },
    "id": "fGvJTSO7u5aK",
    "outputId": "2f033202-c9c1-4cb6-9e3e-1eec876e87c0",
    "trusted": true
   },
   "outputs": [
    {
     "data": {
      "text/plain": [
       "array(['1995', '1994', '1996', '1976', '1992', '1988', '1967', '1993',\n",
       "       '1964', '1977', '1965', '1982', '1990', '1991', '1989', '1937',\n",
       "       '1940', '1969', '1981', '1973', '1970', '1960', '1955', '1959',\n",
       "       '1968', '1980', '1975', '1986', '1948', '1943', '1950', '1946',\n",
       "       '1987', '1997', '1974', '1956', '1958', '1949', '1972', '1998',\n",
       "       '1933', '1952', '1951', '1957', '1961', '1954', '1934', '1944',\n",
       "       '1963', '1942', '1941', '1953', '1939', '1947', '1945', '1938',\n",
       "       '1935', '1936', '1926', '1932', '1985', '1979', '1971', '1978',\n",
       "       '1966', '1962', '1983', '1984', '1931', '1922', '1999', '1927',\n",
       "       '1929', '1930', '1928', '1925', '1914', '2000', '1919', '1923',\n",
       "       '1920', '1918', '1921', '2001', '1924', '2002', '2003', '1915',\n",
       "       '2004', '1916', '1917', '', '2005', '2006', '1902', '1903', '2007',\n",
       "       '2008', '2009', '1912', '2010', '1913', '2011', '1898', '1899',\n",
       "       '1894', '2012', '1910', '2013', '1896', '2014', '2015', '1895',\n",
       "       '1909', '1911', '1900', '2016', '2017', '2018', '2019', '1905',\n",
       "       '1904', '1891', '1892', '1908', '1897', '1887', '1888', '1890',\n",
       "       '1878', '1874', '1901', '1907', '1906', '1883', '1880', '2020',\n",
       "       '2021', '1889', '2022', '1882', '1885', '2023'], dtype=object)"
      ]
     },
     "execution_count": 6,
     "metadata": {},
     "output_type": "execute_result"
    }
   ],
   "source": [
    "# Let's have a look at the unique years. We see that some films don't have the year\n",
    "movies_data[\"year_shot\"].unique()"
   ]
  },
  {
   "cell_type": "code",
   "execution_count": 7,
   "metadata": {
    "execution": {
     "iopub.execute_input": "2022-06-13T15:27:07.509392Z",
     "iopub.status.busy": "2022-06-13T15:27:07.508745Z",
     "iopub.status.idle": "2022-06-13T15:27:07.525941Z",
     "shell.execute_reply": "2022-06-13T15:27:07.525160Z",
     "shell.execute_reply.started": "2022-06-13T15:27:07.509356Z"
    },
    "executionInfo": {
     "elapsed": 386,
     "status": "ok",
     "timestamp": 1655128332098,
     "user": {
      "displayName": "Алексей Шаков",
      "userId": "08626621059682709172"
     },
     "user_tz": -180
    },
    "id": "6T83fI5Qu5aL",
    "outputId": "cb4c411d-4155-45ab-c097-997388032623",
    "trusted": true
   },
   "outputs": [
    {
     "name": "stdout",
     "output_type": "stream",
     "text": [
      "-------\n",
      "The number with blanks in 'year' - 770\n"
     ]
    }
   ],
   "source": [
    "movies_data[movies_data[\"year_shot\"] == \"\"]\n",
    "print(\"-------\")\n",
    "print(\"The number with blanks in 'year' -\", len(movies_data[movies_data[\"year_shot\"] == \"\"]))"
   ]
  },
  {
   "cell_type": "code",
   "execution_count": 8,
   "metadata": {
    "execution": {
     "iopub.execute_input": "2022-06-13T15:27:07.527828Z",
     "iopub.status.busy": "2022-06-13T15:27:07.527274Z",
     "iopub.status.idle": "2022-06-13T15:27:07.538872Z",
     "shell.execute_reply": "2022-06-13T15:27:07.538014Z",
     "shell.execute_reply.started": "2022-06-13T15:27:07.527794Z"
    },
    "executionInfo": {
     "elapsed": 20,
     "status": "ok",
     "timestamp": 1655128332099,
     "user": {
      "displayName": "Алексей Шаков",
      "userId": "08626621059682709172"
     },
     "user_tz": -180
    },
    "id": "0xSsg3WOu5aM",
    "trusted": true
   },
   "outputs": [],
   "source": [
    "mask = movies_data[\"year_shot\"] == \"\"\n",
    "movies_data.loc[mask, \"year_shot\"] = movies_data[mask][\"title\"].apply(lambda x: \"\".join(re.findall(r\"\\((\\d+)\\)\", x)))"
   ]
  },
  {
   "cell_type": "code",
   "execution_count": 9,
   "metadata": {
    "execution": {
     "iopub.execute_input": "2022-06-13T15:27:07.541324Z",
     "iopub.status.busy": "2022-06-13T15:27:07.540770Z",
     "iopub.status.idle": "2022-06-13T15:27:07.556299Z",
     "shell.execute_reply": "2022-06-13T15:27:07.555364Z",
     "shell.execute_reply.started": "2022-06-13T15:27:07.541274Z"
    },
    "executionInfo": {
     "elapsed": 21,
     "status": "ok",
     "timestamp": 1655128332100,
     "user": {
      "displayName": "Алексей Шаков",
      "userId": "08626621059682709172"
     },
     "user_tz": -180
    },
    "id": "VClz0bImu5aN",
    "outputId": "58cd5e43-ea22-4c48-c965-5d639d69d6c0",
    "trusted": true
   },
   "outputs": [
    {
     "name": "stdout",
     "output_type": "stream",
     "text": [
      "-------\n",
      "The number with blanks in 'year' - 615\n"
     ]
    }
   ],
   "source": [
    "movies_data[movies_data[\"year_shot\"] == \"\"]\n",
    "print(\"-------\")\n",
    "print(\"The number with blanks in 'year' -\", len(movies_data[movies_data[\"year_shot\"] == \"\"]))"
   ]
  },
  {
   "cell_type": "code",
   "execution_count": 10,
   "metadata": {
    "execution": {
     "iopub.execute_input": "2022-06-13T15:27:07.560721Z",
     "iopub.status.busy": "2022-06-13T15:27:07.560037Z",
     "iopub.status.idle": "2022-06-13T15:27:07.570148Z",
     "shell.execute_reply": "2022-06-13T15:27:07.569325Z",
     "shell.execute_reply.started": "2022-06-13T15:27:07.560692Z"
    },
    "executionInfo": {
     "elapsed": 18,
     "status": "ok",
     "timestamp": 1655128332101,
     "user": {
      "displayName": "Алексей Шаков",
      "userId": "08626621059682709172"
     },
     "user_tz": -180
    },
    "id": "SE1jc6SAu5aN",
    "trusted": true
   },
   "outputs": [],
   "source": [
    "movies_data.loc[movies_data[\"year_shot\"] == \"\", \"year_shot\"] = np.nan"
   ]
  },
  {
   "cell_type": "code",
   "execution_count": 11,
   "metadata": {
    "execution": {
     "iopub.execute_input": "2022-06-13T15:27:07.572174Z",
     "iopub.status.busy": "2022-06-13T15:27:07.571366Z",
     "iopub.status.idle": "2022-06-13T15:27:07.589831Z",
     "shell.execute_reply": "2022-06-13T15:27:07.588984Z",
     "shell.execute_reply.started": "2022-06-13T15:27:07.572070Z"
    },
    "executionInfo": {
     "elapsed": 18,
     "status": "ok",
     "timestamp": 1655128332102,
     "user": {
      "displayName": "Алексей Шаков",
      "userId": "08626621059682709172"
     },
     "user_tz": -180
    },
    "id": "5CHancfvu5aO",
    "outputId": "c2bd9ea9-2a24-4e0e-85da-d539cb109de7",
    "trusted": true
   },
   "outputs": [
    {
     "data": {
      "text/html": [
       "<div>\n",
       "<style scoped>\n",
       "    .dataframe tbody tr th:only-of-type {\n",
       "        vertical-align: middle;\n",
       "    }\n",
       "\n",
       "    .dataframe tbody tr th {\n",
       "        vertical-align: top;\n",
       "    }\n",
       "\n",
       "    .dataframe thead th {\n",
       "        text-align: right;\n",
       "    }\n",
       "</style>\n",
       "<table border=\"1\" class=\"dataframe\">\n",
       "  <thead>\n",
       "    <tr style=\"text-align: right;\">\n",
       "      <th></th>\n",
       "      <th>movieId</th>\n",
       "      <th>title</th>\n",
       "      <th>genres</th>\n",
       "      <th>year_shot</th>\n",
       "    </tr>\n",
       "  </thead>\n",
       "  <tbody>\n",
       "    <tr>\n",
       "      <th>15038</th>\n",
       "      <td>79607</td>\n",
       "      <td>Millions Game, The (Das Millionenspiel)</td>\n",
       "      <td>Action|Drama|Sci-Fi|Thriller</td>\n",
       "      <td>NaN</td>\n",
       "    </tr>\n",
       "    <tr>\n",
       "      <th>25425</th>\n",
       "      <td>123619</td>\n",
       "      <td>Terrible Joe Moran</td>\n",
       "      <td>(no genres listed)</td>\n",
       "      <td>NaN</td>\n",
       "    </tr>\n",
       "    <tr>\n",
       "      <th>26356</th>\n",
       "      <td>125571</td>\n",
       "      <td>The Court-Martial of Jackie Robinson</td>\n",
       "      <td>(no genres listed)</td>\n",
       "      <td>NaN</td>\n",
       "    </tr>\n",
       "    <tr>\n",
       "      <th>26381</th>\n",
       "      <td>125632</td>\n",
       "      <td>In Our Garden</td>\n",
       "      <td>(no genres listed)</td>\n",
       "      <td>NaN</td>\n",
       "    </tr>\n",
       "    <tr>\n",
       "      <th>26466</th>\n",
       "      <td>125958</td>\n",
       "      <td>Stephen Fry In America - New World</td>\n",
       "      <td>(no genres listed)</td>\n",
       "      <td>NaN</td>\n",
       "    </tr>\n",
       "    <tr>\n",
       "      <th>...</th>\n",
       "      <td>...</td>\n",
       "      <td>...</td>\n",
       "      <td>...</td>\n",
       "      <td>...</td>\n",
       "    </tr>\n",
       "    <tr>\n",
       "      <th>86528</th>\n",
       "      <td>288927</td>\n",
       "      <td>Fortunes</td>\n",
       "      <td>Comedy</td>\n",
       "      <td>NaN</td>\n",
       "    </tr>\n",
       "    <tr>\n",
       "      <th>86634</th>\n",
       "      <td>289193</td>\n",
       "      <td>The Wonderful Story of Henry Sugar</td>\n",
       "      <td>Adventure|Children|Comedy</td>\n",
       "      <td>NaN</td>\n",
       "    </tr>\n",
       "    <tr>\n",
       "      <th>86833</th>\n",
       "      <td>289909</td>\n",
       "      <td>Rattler</td>\n",
       "      <td>(no genres listed)</td>\n",
       "      <td>NaN</td>\n",
       "    </tr>\n",
       "    <tr>\n",
       "      <th>87074</th>\n",
       "      <td>290775</td>\n",
       "      <td>Being Romanian: A Family Journal</td>\n",
       "      <td>(no genres listed)</td>\n",
       "      <td>NaN</td>\n",
       "    </tr>\n",
       "    <tr>\n",
       "      <th>87482</th>\n",
       "      <td>291897</td>\n",
       "      <td>The Green Oak Guardian</td>\n",
       "      <td>Comedy|Romance</td>\n",
       "      <td>NaN</td>\n",
       "    </tr>\n",
       "  </tbody>\n",
       "</table>\n",
       "<p>615 rows × 4 columns</p>\n",
       "</div>"
      ],
      "text/plain": [
       "       movieId                                    title  \\\n",
       "15038    79607  Millions Game, The (Das Millionenspiel)   \n",
       "25425   123619                       Terrible Joe Moran   \n",
       "26356   125571     The Court-Martial of Jackie Robinson   \n",
       "26381   125632                            In Our Garden   \n",
       "26466   125958       Stephen Fry In America - New World   \n",
       "...        ...                                      ...   \n",
       "86528   288927                                 Fortunes   \n",
       "86634   289193       The Wonderful Story of Henry Sugar   \n",
       "86833   289909                                  Rattler   \n",
       "87074   290775         Being Romanian: A Family Journal   \n",
       "87482   291897                   The Green Oak Guardian   \n",
       "\n",
       "                             genres year_shot  \n",
       "15038  Action|Drama|Sci-Fi|Thriller       NaN  \n",
       "25425            (no genres listed)       NaN  \n",
       "26356            (no genres listed)       NaN  \n",
       "26381            (no genres listed)       NaN  \n",
       "26466            (no genres listed)       NaN  \n",
       "...                             ...       ...  \n",
       "86528                        Comedy       NaN  \n",
       "86634     Adventure|Children|Comedy       NaN  \n",
       "86833            (no genres listed)       NaN  \n",
       "87074            (no genres listed)       NaN  \n",
       "87482                Comedy|Romance       NaN  \n",
       "\n",
       "[615 rows x 4 columns]"
      ]
     },
     "execution_count": 11,
     "metadata": {},
     "output_type": "execute_result"
    }
   ],
   "source": [
    "movies_data[movies_data[\"year_shot\"].isna()]"
   ]
  },
  {
   "cell_type": "markdown",
   "metadata": {
    "id": "HgBS6S5Zu5aP"
   },
   "source": [
    "**We see that there are some blanks in \"year\". I'll delete these rows as their amount is not huge.**"
   ]
  },
  {
   "cell_type": "code",
   "execution_count": 12,
   "metadata": {
    "execution": {
     "iopub.execute_input": "2022-06-13T15:27:07.592033Z",
     "iopub.status.busy": "2022-06-13T15:27:07.591288Z",
     "iopub.status.idle": "2022-06-13T15:27:07.608698Z",
     "shell.execute_reply": "2022-06-13T15:27:07.607915Z",
     "shell.execute_reply.started": "2022-06-13T15:27:07.591991Z"
    },
    "executionInfo": {
     "elapsed": 18,
     "status": "ok",
     "timestamp": 1655128332104,
     "user": {
      "displayName": "Алексей Шаков",
      "userId": "08626621059682709172"
     },
     "user_tz": -180
    },
    "id": "pn2BXEm0u5aP",
    "trusted": true
   },
   "outputs": [],
   "source": [
    "# convert \"year\" to numeric\n",
    "mask1 = (~movies_data[\"year_shot\"].isna())\n",
    "movies_data.loc[mask1, \"year_shot\"] = movies_data.loc[mask1, \"year_shot\"].astype(int)"
   ]
  },
  {
   "cell_type": "code",
   "execution_count": 13,
   "metadata": {
    "execution": {
     "iopub.execute_input": "2022-06-13T15:27:07.610700Z",
     "iopub.status.busy": "2022-06-13T15:27:07.610081Z",
     "iopub.status.idle": "2022-06-13T15:27:09.825998Z",
     "shell.execute_reply": "2022-06-13T15:27:09.825154Z",
     "shell.execute_reply.started": "2022-06-13T15:27:07.610661Z"
    },
    "executionInfo": {
     "elapsed": 2774,
     "status": "ok",
     "timestamp": 1655128334861,
     "user": {
      "displayName": "Алексей Шаков",
      "userId": "08626621059682709172"
     },
     "user_tz": -180
    },
    "id": "beglOhmXu5aQ",
    "outputId": "c78f1d78-b37c-4dec-e800-0abbea315b6c",
    "trusted": true
   },
   "outputs": [
    {
     "data": {
      "text/plain": [
       "year_shot\n",
       "1874    Axes(0.125,0.11;0.775x0.77)\n",
       "1878    Axes(0.125,0.11;0.775x0.77)\n",
       "1880    Axes(0.125,0.11;0.775x0.77)\n",
       "1882    Axes(0.125,0.11;0.775x0.77)\n",
       "1883    Axes(0.125,0.11;0.775x0.77)\n",
       "                   ...             \n",
       "2019    Axes(0.125,0.11;0.775x0.77)\n",
       "2020    Axes(0.125,0.11;0.775x0.77)\n",
       "2021    Axes(0.125,0.11;0.775x0.77)\n",
       "2022    Axes(0.125,0.11;0.775x0.77)\n",
       "2023    Axes(0.125,0.11;0.775x0.77)\n",
       "Name: year_shot, Length: 142, dtype: object"
      ]
     },
     "execution_count": 13,
     "metadata": {},
     "output_type": "execute_result"
    },
    {
     "data": {
      "image/png": "[encoded data removed]",
      "text/plain": [
       "<Figure size 800x600 with 1 Axes>"
      ]
     },
     "metadata": {},
     "output_type": "display_data"
    }
   ],
   "source": [
    "movies_data.groupby(\"year_shot\")[\"year_shot\"].hist(grid=False ,figsize=(8, 6))"
   ]
  },
  {
   "cell_type": "code",
   "execution_count": 14,
   "metadata": {
    "execution": {
     "iopub.execute_input": "2022-06-13T15:27:09.827603Z",
     "iopub.status.busy": "2022-06-13T15:27:09.827269Z",
     "iopub.status.idle": "2022-06-13T15:27:09.837766Z",
     "shell.execute_reply": "2022-06-13T15:27:09.837075Z",
     "shell.execute_reply.started": "2022-06-13T15:27:09.827577Z"
    },
    "executionInfo": {
     "elapsed": 49,
     "status": "ok",
     "timestamp": 1655128334864,
     "user": {
      "displayName": "Алексей Шаков",
      "userId": "08626621059682709172"
     },
     "user_tz": -180
    },
    "id": "ehDAGJIKu5aR",
    "outputId": "33f1fbec-681a-48fb-e5aa-0612c66b3163",
    "trusted": true
   },
   "outputs": [
    {
     "data": {
      "text/html": [
       "<div>\n",
       "<style scoped>\n",
       "    .dataframe tbody tr th:only-of-type {\n",
       "        vertical-align: middle;\n",
       "    }\n",
       "\n",
       "    .dataframe tbody tr th {\n",
       "        vertical-align: top;\n",
       "    }\n",
       "\n",
       "    .dataframe thead th {\n",
       "        text-align: right;\n",
       "    }\n",
       "</style>\n",
       "<table border=\"1\" class=\"dataframe\">\n",
       "  <thead>\n",
       "    <tr style=\"text-align: right;\">\n",
       "      <th></th>\n",
       "      <th>movieId</th>\n",
       "      <th>title</th>\n",
       "      <th>genres</th>\n",
       "      <th>year_shot</th>\n",
       "    </tr>\n",
       "  </thead>\n",
       "  <tbody>\n",
       "    <tr>\n",
       "      <th>0</th>\n",
       "      <td>1</td>\n",
       "      <td>Toy Story (1995)</td>\n",
       "      <td>Adventure|Animation|Children|Comedy|Fantasy</td>\n",
       "      <td>1995</td>\n",
       "    </tr>\n",
       "    <tr>\n",
       "      <th>1</th>\n",
       "      <td>2</td>\n",
       "      <td>Jumanji (1995)</td>\n",
       "      <td>Adventure|Children|Fantasy</td>\n",
       "      <td>1995</td>\n",
       "    </tr>\n",
       "    <tr>\n",
       "      <th>2</th>\n",
       "      <td>3</td>\n",
       "      <td>Grumpier Old Men (1995)</td>\n",
       "      <td>Comedy|Romance</td>\n",
       "      <td>1995</td>\n",
       "    </tr>\n",
       "    <tr>\n",
       "      <th>3</th>\n",
       "      <td>4</td>\n",
       "      <td>Waiting to Exhale (1995)</td>\n",
       "      <td>Comedy|Drama|Romance</td>\n",
       "      <td>1995</td>\n",
       "    </tr>\n",
       "    <tr>\n",
       "      <th>4</th>\n",
       "      <td>5</td>\n",
       "      <td>Father of the Bride Part II (1995)</td>\n",
       "      <td>Comedy</td>\n",
       "      <td>1995</td>\n",
       "    </tr>\n",
       "  </tbody>\n",
       "</table>\n",
       "</div>"
      ],
      "text/plain": [
       "   movieId                               title  \\\n",
       "0        1                    Toy Story (1995)   \n",
       "1        2                      Jumanji (1995)   \n",
       "2        3             Grumpier Old Men (1995)   \n",
       "3        4            Waiting to Exhale (1995)   \n",
       "4        5  Father of the Bride Part II (1995)   \n",
       "\n",
       "                                        genres year_shot  \n",
       "0  Adventure|Animation|Children|Comedy|Fantasy      1995  \n",
       "1                   Adventure|Children|Fantasy      1995  \n",
       "2                               Comedy|Romance      1995  \n",
       "3                         Comedy|Drama|Romance      1995  \n",
       "4                                       Comedy      1995  "
      ]
     },
     "execution_count": 14,
     "metadata": {},
     "output_type": "execute_result"
    }
   ],
   "source": [
    "movies_data.head()"
   ]
  },
  {
   "cell_type": "code",
   "execution_count": 15,
   "metadata": {
    "execution": {
     "iopub.execute_input": "2022-06-13T15:27:09.839471Z",
     "iopub.status.busy": "2022-06-13T15:27:09.838981Z",
     "iopub.status.idle": "2022-06-13T15:27:09.874479Z",
     "shell.execute_reply": "2022-06-13T15:27:09.873327Z",
     "shell.execute_reply.started": "2022-06-13T15:27:09.839436Z"
    },
    "executionInfo": {
     "elapsed": 45,
     "status": "ok",
     "timestamp": 1655128334867,
     "user": {
      "displayName": "Алексей Шаков",
      "userId": "08626621059682709172"
     },
     "user_tz": -180
    },
    "id": "4nS1Qq8ru5aR",
    "outputId": "db59148d-d7c2-44ef-d178-67bbe9519278",
    "trusted": true
   },
   "outputs": [
    {
     "data": {
      "text/plain": [
       "year_shot\n",
       "1874       1\n",
       "1878       2\n",
       "1880       1\n",
       "1882       1\n",
       "1883       1\n",
       "        ... \n",
       "2019    3084\n",
       "2020    2629\n",
       "2021    2314\n",
       "2022    2091\n",
       "2023     952\n",
       "Name: movieId, Length: 142, dtype: int64"
      ]
     },
     "execution_count": 15,
     "metadata": {},
     "output_type": "execute_result"
    }
   ],
   "source": [
    "movies_data.groupby(\"year_shot\")[\"movieId\"].count()"
   ]
  },
  {
   "cell_type": "markdown",
   "metadata": {
    "id": "5qGtVtFsu5aS"
   },
   "source": [
    "## 2.2 dataset with information about ratings\n"
   ]
  },
  {
   "cell_type": "code",
   "execution_count": 17,
   "metadata": {
    "execution": {
     "iopub.execute_input": "2022-06-13T15:27:09.876426Z",
     "iopub.status.busy": "2022-06-13T15:27:09.876039Z",
     "iopub.status.idle": "2022-06-13T15:27:30.201884Z",
     "shell.execute_reply": "2022-06-13T15:27:30.201148Z",
     "shell.execute_reply.started": "2022-06-13T15:27:09.876390Z"
    },
    "executionInfo": {
     "elapsed": 35234,
     "status": "ok",
     "timestamp": 1655128370071,
     "user": {
      "displayName": "Алексей Шаков",
      "userId": "08626621059682709172"
     },
     "user_tz": -180
    },
    "id": "Z-iIwyRXu5aS",
    "outputId": "3f40d7c6-70b3-48a7-bb89-f2593c57805e",
    "trusted": true
   },
   "outputs": [
    {
     "name": "stdout",
     "output_type": "stream",
     "text": [
      "The size of dataset is (32000204, 4)\n"
     ]
    },
    {
     "data": {
      "text/html": [
       "<div>\n",
       "<style scoped>\n",
       "    .dataframe tbody tr th:only-of-type {\n",
       "        vertical-align: middle;\n",
       "    }\n",
       "\n",
       "    .dataframe tbody tr th {\n",
       "        vertical-align: top;\n",
       "    }\n",
       "\n",
       "    .dataframe thead th {\n",
       "        text-align: right;\n",
       "    }\n",
       "</style>\n",
       "<table border=\"1\" class=\"dataframe\">\n",
       "  <thead>\n",
       "    <tr style=\"text-align: right;\">\n",
       "      <th></th>\n",
       "      <th>userId</th>\n",
       "      <th>movieId</th>\n",
       "      <th>rating</th>\n",
       "      <th>timestamp</th>\n",
       "    </tr>\n",
       "  </thead>\n",
       "  <tbody>\n",
       "    <tr>\n",
       "      <th>0</th>\n",
       "      <td>1</td>\n",
       "      <td>17</td>\n",
       "      <td>4.0</td>\n",
       "      <td>944249077</td>\n",
       "    </tr>\n",
       "    <tr>\n",
       "      <th>1</th>\n",
       "      <td>1</td>\n",
       "      <td>25</td>\n",
       "      <td>1.0</td>\n",
       "      <td>944250228</td>\n",
       "    </tr>\n",
       "    <tr>\n",
       "      <th>2</th>\n",
       "      <td>1</td>\n",
       "      <td>29</td>\n",
       "      <td>2.0</td>\n",
       "      <td>943230976</td>\n",
       "    </tr>\n",
       "    <tr>\n",
       "      <th>3</th>\n",
       "      <td>1</td>\n",
       "      <td>30</td>\n",
       "      <td>5.0</td>\n",
       "      <td>944249077</td>\n",
       "    </tr>\n",
       "    <tr>\n",
       "      <th>4</th>\n",
       "      <td>1</td>\n",
       "      <td>32</td>\n",
       "      <td>5.0</td>\n",
       "      <td>943228858</td>\n",
       "    </tr>\n",
       "  </tbody>\n",
       "</table>\n",
       "</div>"
      ],
      "text/plain": [
       "   userId  movieId  rating  timestamp\n",
       "0       1       17     4.0  944249077\n",
       "1       1       25     1.0  944250228\n",
       "2       1       29     2.0  943230976\n",
       "3       1       30     5.0  944249077\n",
       "4       1       32     5.0  943228858"
      ]
     },
     "execution_count": 17,
     "metadata": {},
     "output_type": "execute_result"
    }
   ],
   "source": [
    "ratings_data = pd.read_csv(r\"Dataset\\ratings.csv\")\n",
    "print(\"The size of dataset is\", ratings_data.shape)\n",
    "ratings_data.head()"
   ]
  },
  {
   "cell_type": "code",
   "execution_count": 18,
   "metadata": {
    "execution": {
     "iopub.execute_input": "2022-06-13T15:27:30.203807Z",
     "iopub.status.busy": "2022-06-13T15:27:30.203069Z",
     "iopub.status.idle": "2022-06-13T15:27:30.216521Z",
     "shell.execute_reply": "2022-06-13T15:27:30.215421Z",
     "shell.execute_reply.started": "2022-06-13T15:27:30.203769Z"
    },
    "executionInfo": {
     "elapsed": 34,
     "status": "ok",
     "timestamp": 1655128370073,
     "user": {
      "displayName": "Алексей Шаков",
      "userId": "08626621059682709172"
     },
     "user_tz": -180
    },
    "id": "zoCVCUhOu5aT",
    "outputId": "53a5a4b1-ce81-4eb2-b273-173f57e12355",
    "trusted": true
   },
   "outputs": [
    {
     "name": "stdout",
     "output_type": "stream",
     "text": [
      "<class 'pandas.core.frame.DataFrame'>\n",
      "RangeIndex: 32000204 entries, 0 to 32000203\n",
      "Data columns (total 4 columns):\n",
      " #   Column     Dtype  \n",
      "---  ------     -----  \n",
      " 0   userId     int64  \n",
      " 1   movieId    int64  \n",
      " 2   rating     float64\n",
      " 3   timestamp  int64  \n",
      "dtypes: float64(1), int64(3)\n",
      "memory usage: 976.6 MB\n"
     ]
    }
   ],
   "source": [
    "ratings_data.info()"
   ]
  },
  {
   "cell_type": "code",
   "execution_count": 19,
   "metadata": {
    "execution": {
     "iopub.execute_input": "2022-06-13T15:27:30.218248Z",
     "iopub.status.busy": "2022-06-13T15:27:30.217783Z",
     "iopub.status.idle": "2022-06-13T15:27:32.117272Z",
     "shell.execute_reply": "2022-06-13T15:27:32.116537Z",
     "shell.execute_reply.started": "2022-06-13T15:27:30.218205Z"
    },
    "executionInfo": {
     "elapsed": 1581,
     "status": "ok",
     "timestamp": 1655128371626,
     "user": {
      "displayName": "Алексей Шаков",
      "userId": "08626621059682709172"
     },
     "user_tz": -180
    },
    "id": "ROQMLSaRu5aT",
    "outputId": "ea58a7f5-d42e-4a7c-f4a0-be3371802368",
    "trusted": true
   },
   "outputs": [
    {
     "data": {
      "text/plain": [
       "userId       0\n",
       "movieId      0\n",
       "rating       0\n",
       "timestamp    0\n",
       "dtype: int64"
      ]
     },
     "execution_count": 19,
     "metadata": {},
     "output_type": "execute_result"
    }
   ],
   "source": [
    "ratings_data.isnull().sum()"
   ]
  },
  {
   "cell_type": "code",
   "execution_count": 20,
   "metadata": {
    "execution": {
     "iopub.execute_input": "2022-06-13T15:27:32.119056Z",
     "iopub.status.busy": "2022-06-13T15:27:32.118710Z",
     "iopub.status.idle": "2022-06-13T15:27:32.282000Z",
     "shell.execute_reply": "2022-06-13T15:27:32.281106Z",
     "shell.execute_reply.started": "2022-06-13T15:27:32.119021Z"
    },
    "executionInfo": {
     "elapsed": 435,
     "status": "ok",
     "timestamp": 1655128372048,
     "user": {
      "displayName": "Алексей Шаков",
      "userId": "08626621059682709172"
     },
     "user_tz": -180
    },
    "id": "3rQZBM1Du5aU",
    "outputId": "d34a8fa5-513f-4804-b4fb-f94a9cf2ca51",
    "trusted": true
   },
   "outputs": [
    {
     "data": {
      "text/plain": [
       "userId    200948\n",
       "dtype: int64"
      ]
     },
     "execution_count": 20,
     "metadata": {},
     "output_type": "execute_result"
    }
   ],
   "source": [
    "# Let's have a look at the unique number of users\n",
    "ratings_data[[\"userId\"]].nunique() "
   ]
  },
  {
   "cell_type": "markdown",
   "metadata": {
    "id": "yYu0yukOu5aU"
   },
   "source": [
    "**Before we begin to do manipulation with this dataset I cut some users in order to do calculations faster**"
   ]
  },
  {
   "cell_type": "code",
   "execution_count": 21,
   "metadata": {
    "execution": {
     "iopub.execute_input": "2022-06-13T15:27:32.283845Z",
     "iopub.status.busy": "2022-06-13T15:27:32.283491Z",
     "iopub.status.idle": "2022-06-13T15:27:35.135935Z",
     "shell.execute_reply": "2022-06-13T15:27:35.134743Z",
     "shell.execute_reply.started": "2022-06-13T15:27:32.283811Z"
    },
    "executionInfo": {
     "elapsed": 2641,
     "status": "ok",
     "timestamp": 1655128374686,
     "user": {
      "displayName": "Алексей Шаков",
      "userId": "08626621059682709172"
     },
     "user_tz": -180
    },
    "id": "gnEbyE61u5aU",
    "outputId": "1e4effd3-1551-4fdb-c955-8a8cde8447fa",
    "trusted": true
   },
   "outputs": [
    {
     "name": "stdout",
     "output_type": "stream",
     "text": [
      "800\n"
     ]
    }
   ],
   "source": [
    "random.seed(0)\n",
    "special_users = random.sample(list(ratings_data[\"userId\"]), 800)\n",
    "print(len(special_users))"
   ]
  },
  {
   "cell_type": "code",
   "execution_count": 22,
   "metadata": {
    "execution": {
     "iopub.execute_input": "2022-06-13T15:27:35.137959Z",
     "iopub.status.busy": "2022-06-13T15:27:35.137410Z",
     "iopub.status.idle": "2022-06-13T15:27:35.305198Z",
     "shell.execute_reply": "2022-06-13T15:27:35.304378Z",
     "shell.execute_reply.started": "2022-06-13T15:27:35.137918Z"
    },
    "executionInfo": {
     "elapsed": 34,
     "status": "ok",
     "timestamp": 1655128374688,
     "user": {
      "displayName": "Алексей Шаков",
      "userId": "08626621059682709172"
     },
     "user_tz": -180
    },
    "id": "ZQnOKtiYu5aV",
    "outputId": "b9bb25a0-57ba-4018-c325-ee2e5679a238",
    "trusted": true
   },
   "outputs": [
    {
     "name": "stdout",
     "output_type": "stream",
     "text": [
      "(531213, 4)\n"
     ]
    },
    {
     "data": {
      "text/html": [
       "<div>\n",
       "<style scoped>\n",
       "    .dataframe tbody tr th:only-of-type {\n",
       "        vertical-align: middle;\n",
       "    }\n",
       "\n",
       "    .dataframe tbody tr th {\n",
       "        vertical-align: top;\n",
       "    }\n",
       "\n",
       "    .dataframe thead th {\n",
       "        text-align: right;\n",
       "    }\n",
       "</style>\n",
       "<table border=\"1\" class=\"dataframe\">\n",
       "  <thead>\n",
       "    <tr style=\"text-align: right;\">\n",
       "      <th></th>\n",
       "      <th>userId</th>\n",
       "      <th>movieId</th>\n",
       "      <th>rating</th>\n",
       "      <th>timestamp</th>\n",
       "    </tr>\n",
       "  </thead>\n",
       "  <tbody>\n",
       "    <tr>\n",
       "      <th>2305</th>\n",
       "      <td>24</td>\n",
       "      <td>1</td>\n",
       "      <td>4.0</td>\n",
       "      <td>945353745</td>\n",
       "    </tr>\n",
       "    <tr>\n",
       "      <th>2306</th>\n",
       "      <td>24</td>\n",
       "      <td>34</td>\n",
       "      <td>4.0</td>\n",
       "      <td>945354032</td>\n",
       "    </tr>\n",
       "    <tr>\n",
       "      <th>2307</th>\n",
       "      <td>24</td>\n",
       "      <td>65</td>\n",
       "      <td>3.0</td>\n",
       "      <td>945353646</td>\n",
       "    </tr>\n",
       "    <tr>\n",
       "      <th>2308</th>\n",
       "      <td>24</td>\n",
       "      <td>260</td>\n",
       "      <td>3.0</td>\n",
       "      <td>945353633</td>\n",
       "    </tr>\n",
       "    <tr>\n",
       "      <th>2309</th>\n",
       "      <td>24</td>\n",
       "      <td>333</td>\n",
       "      <td>1.0</td>\n",
       "      <td>945354118</td>\n",
       "    </tr>\n",
       "  </tbody>\n",
       "</table>\n",
       "</div>"
      ],
      "text/plain": [
       "      userId  movieId  rating  timestamp\n",
       "2305      24        1     4.0  945353745\n",
       "2306      24       34     4.0  945354032\n",
       "2307      24       65     3.0  945353646\n",
       "2308      24      260     3.0  945353633\n",
       "2309      24      333     1.0  945354118"
      ]
     },
     "execution_count": 22,
     "metadata": {},
     "output_type": "execute_result"
    }
   ],
   "source": [
    "special_ratings_data = ratings_data[ratings_data[\"userId\"].isin(special_users)]\n",
    "print(special_ratings_data.shape)\n",
    "special_ratings_data.head()"
   ]
  },
  {
   "cell_type": "code",
   "execution_count": 23,
   "metadata": {
    "execution": {
     "iopub.execute_input": "2022-06-13T15:27:35.307562Z",
     "iopub.status.busy": "2022-06-13T15:27:35.306588Z",
     "iopub.status.idle": "2022-06-13T15:27:35.754060Z",
     "shell.execute_reply": "2022-06-13T15:27:35.753297Z",
     "shell.execute_reply.started": "2022-06-13T15:27:35.307520Z"
    },
    "executionInfo": {
     "elapsed": 429,
     "status": "ok",
     "timestamp": 1655128375099,
     "user": {
      "displayName": "Алексей Шаков",
      "userId": "08626621059682709172"
     },
     "user_tz": -180
    },
    "id": "yhe-63AGu5aV",
    "outputId": "a47e0087-f882-4faa-cff6-68f2b738bff2",
    "trusted": true
   },
   "outputs": [
    {
     "data": {
      "text/html": [
       "<div>\n",
       "<style scoped>\n",
       "    .dataframe tbody tr th:only-of-type {\n",
       "        vertical-align: middle;\n",
       "    }\n",
       "\n",
       "    .dataframe tbody tr th {\n",
       "        vertical-align: top;\n",
       "    }\n",
       "\n",
       "    .dataframe thead th {\n",
       "        text-align: right;\n",
       "    }\n",
       "</style>\n",
       "<table border=\"1\" class=\"dataframe\">\n",
       "  <thead>\n",
       "    <tr style=\"text-align: right;\">\n",
       "      <th></th>\n",
       "      <th>userId</th>\n",
       "      <th>movieId</th>\n",
       "      <th>rating</th>\n",
       "      <th>timestamp</th>\n",
       "      <th>date</th>\n",
       "    </tr>\n",
       "  </thead>\n",
       "  <tbody>\n",
       "    <tr>\n",
       "      <th>2305</th>\n",
       "      <td>24</td>\n",
       "      <td>1</td>\n",
       "      <td>4.0</td>\n",
       "      <td>945353745</td>\n",
       "      <td>1970-01-01</td>\n",
       "    </tr>\n",
       "    <tr>\n",
       "      <th>2306</th>\n",
       "      <td>24</td>\n",
       "      <td>34</td>\n",
       "      <td>4.0</td>\n",
       "      <td>945354032</td>\n",
       "      <td>1970-01-01</td>\n",
       "    </tr>\n",
       "    <tr>\n",
       "      <th>2307</th>\n",
       "      <td>24</td>\n",
       "      <td>65</td>\n",
       "      <td>3.0</td>\n",
       "      <td>945353646</td>\n",
       "      <td>1970-01-01</td>\n",
       "    </tr>\n",
       "    <tr>\n",
       "      <th>2308</th>\n",
       "      <td>24</td>\n",
       "      <td>260</td>\n",
       "      <td>3.0</td>\n",
       "      <td>945353633</td>\n",
       "      <td>1970-01-01</td>\n",
       "    </tr>\n",
       "    <tr>\n",
       "      <th>2309</th>\n",
       "      <td>24</td>\n",
       "      <td>333</td>\n",
       "      <td>1.0</td>\n",
       "      <td>945354118</td>\n",
       "      <td>1970-01-01</td>\n",
       "    </tr>\n",
       "  </tbody>\n",
       "</table>\n",
       "</div>"
      ],
      "text/plain": [
       "      userId  movieId  rating  timestamp        date\n",
       "2305      24        1     4.0  945353745  1970-01-01\n",
       "2306      24       34     4.0  945354032  1970-01-01\n",
       "2307      24       65     3.0  945353646  1970-01-01\n",
       "2308      24      260     3.0  945353633  1970-01-01\n",
       "2309      24      333     1.0  945354118  1970-01-01"
      ]
     },
     "execution_count": 23,
     "metadata": {},
     "output_type": "execute_result"
    }
   ],
   "source": [
    "# convert time to more convenient format\n",
    "special_ratings_data[\"date\"] =  pd.to_datetime(special_ratings_data.timestamp).dt.date # convert Unix time to a format convenient for us\n",
    "special_ratings_data.head()"
   ]
  },
  {
   "cell_type": "code",
   "execution_count": 24,
   "metadata": {
    "execution": {
     "iopub.execute_input": "2022-06-13T15:27:35.755879Z",
     "iopub.status.busy": "2022-06-13T15:27:35.755371Z",
     "iopub.status.idle": "2022-06-13T15:27:35.959065Z",
     "shell.execute_reply": "2022-06-13T15:27:35.958221Z",
     "shell.execute_reply.started": "2022-06-13T15:27:35.755841Z"
    },
    "executionInfo": {
     "elapsed": 418,
     "status": "ok",
     "timestamp": 1655128375501,
     "user": {
      "displayName": "Алексей Шаков",
      "userId": "08626621059682709172"
     },
     "user_tz": -180
    },
    "id": "EQsacfDQu5aW",
    "outputId": "693b2ee1-cf0a-4518-af7c-9d3ed88e1fe5",
    "scrolled": true,
    "trusted": true
   },
   "outputs": [
    {
     "data": {
      "text/plain": [
       "<Axes: >"
      ]
     },
     "execution_count": 24,
     "metadata": {},
     "output_type": "execute_result"
    },
    {
     "data": {
      "image/png": "[encoded data removed]",
      "text/plain": [
       "<Figure size 1000x600 with 1 Axes>"
      ]
     },
     "metadata": {},
     "output_type": "display_data"
    }
   ],
   "source": [
    "# distribution of mean rating\n",
    "special_ratings_data.groupby(\"movieId\").rating.mean().hist(figsize=(10, 6)) "
   ]
  },
  {
   "cell_type": "markdown",
   "metadata": {
    "id": "iQ_B5t2_u5aY"
   },
   "source": [
    "# 3 Feature engineering."
   ]
  },
  {
   "cell_type": "code",
   "execution_count": 27,
   "metadata": {
    "execution": {
     "iopub.execute_input": "2022-06-13T15:27:36.750784Z",
     "iopub.status.busy": "2022-06-13T15:27:36.748769Z",
     "iopub.status.idle": "2022-06-13T15:27:36.781925Z",
     "shell.execute_reply": "2022-06-13T15:27:36.781197Z",
     "shell.execute_reply.started": "2022-06-13T15:27:36.750748Z"
    },
    "executionInfo": {
     "elapsed": 43,
     "status": "ok",
     "timestamp": 1655128376784,
     "user": {
      "displayName": "Алексей Шаков",
      "userId": "08626621059682709172"
     },
     "user_tz": -180
    },
    "id": "S8yVaX6Tu5aY",
    "outputId": "e3fe3fc5-49b3-4097-f9db-6c83fc70d188",
    "trusted": true
   },
   "outputs": [
    {
     "data": {
      "text/html": [
       "<div>\n",
       "<style scoped>\n",
       "    .dataframe tbody tr th:only-of-type {\n",
       "        vertical-align: middle;\n",
       "    }\n",
       "\n",
       "    .dataframe tbody tr th {\n",
       "        vertical-align: top;\n",
       "    }\n",
       "\n",
       "    .dataframe thead th {\n",
       "        text-align: right;\n",
       "    }\n",
       "</style>\n",
       "<table border=\"1\" class=\"dataframe\">\n",
       "  <thead>\n",
       "    <tr style=\"text-align: right;\">\n",
       "      <th></th>\n",
       "      <th>userId</th>\n",
       "      <th>movieId</th>\n",
       "      <th>rating</th>\n",
       "      <th>date</th>\n",
       "    </tr>\n",
       "  </thead>\n",
       "  <tbody>\n",
       "    <tr>\n",
       "      <th>2305</th>\n",
       "      <td>24</td>\n",
       "      <td>1</td>\n",
       "      <td>4.0</td>\n",
       "      <td>1970-01-01</td>\n",
       "    </tr>\n",
       "    <tr>\n",
       "      <th>2306</th>\n",
       "      <td>24</td>\n",
       "      <td>34</td>\n",
       "      <td>4.0</td>\n",
       "      <td>1970-01-01</td>\n",
       "    </tr>\n",
       "    <tr>\n",
       "      <th>2307</th>\n",
       "      <td>24</td>\n",
       "      <td>65</td>\n",
       "      <td>3.0</td>\n",
       "      <td>1970-01-01</td>\n",
       "    </tr>\n",
       "    <tr>\n",
       "      <th>2308</th>\n",
       "      <td>24</td>\n",
       "      <td>260</td>\n",
       "      <td>3.0</td>\n",
       "      <td>1970-01-01</td>\n",
       "    </tr>\n",
       "    <tr>\n",
       "      <th>2309</th>\n",
       "      <td>24</td>\n",
       "      <td>333</td>\n",
       "      <td>1.0</td>\n",
       "      <td>1970-01-01</td>\n",
       "    </tr>\n",
       "  </tbody>\n",
       "</table>\n",
       "</div>"
      ],
      "text/plain": [
       "      userId  movieId  rating        date\n",
       "2305      24        1     4.0  1970-01-01\n",
       "2306      24       34     4.0  1970-01-01\n",
       "2307      24       65     3.0  1970-01-01\n",
       "2308      24      260     3.0  1970-01-01\n",
       "2309      24      333     1.0  1970-01-01"
      ]
     },
     "execution_count": 27,
     "metadata": {},
     "output_type": "execute_result"
    }
   ],
   "source": [
    "special_ratings_data.drop(\"timestamp\", axis=1, inplace=True)\n",
    "special_ratings_data.head()"
   ]
  },
  {
   "cell_type": "code",
   "execution_count": 28,
   "metadata": {
    "execution": {
     "iopub.execute_input": "2022-06-13T15:27:36.788150Z",
     "iopub.status.busy": "2022-06-13T15:27:36.785780Z",
     "iopub.status.idle": "2022-06-13T15:27:36.840389Z",
     "shell.execute_reply": "2022-06-13T15:27:36.839646Z",
     "shell.execute_reply.started": "2022-06-13T15:27:36.788115Z"
    },
    "executionInfo": {
     "elapsed": 39,
     "status": "ok",
     "timestamp": 1655128376785,
     "user": {
      "displayName": "Алексей Шаков",
      "userId": "08626621059682709172"
     },
     "user_tz": -180
    },
    "id": "b8ESuvWKu5aZ",
    "outputId": "eeb40b20-4e08-43a6-a3e8-3d6a46b6b388",
    "trusted": true
   },
   "outputs": [
    {
     "name": "stdout",
     "output_type": "stream",
     "text": [
      "(530243, 4)\n"
     ]
    },
    {
     "data": {
      "text/html": [
       "<div>\n",
       "<style scoped>\n",
       "    .dataframe tbody tr th:only-of-type {\n",
       "        vertical-align: middle;\n",
       "    }\n",
       "\n",
       "    .dataframe tbody tr th {\n",
       "        vertical-align: top;\n",
       "    }\n",
       "\n",
       "    .dataframe thead th {\n",
       "        text-align: right;\n",
       "    }\n",
       "</style>\n",
       "<table border=\"1\" class=\"dataframe\">\n",
       "  <thead>\n",
       "    <tr style=\"text-align: right;\">\n",
       "      <th></th>\n",
       "      <th>userId</th>\n",
       "      <th>movieId</th>\n",
       "      <th>rating</th>\n",
       "      <th>date</th>\n",
       "    </tr>\n",
       "  </thead>\n",
       "  <tbody>\n",
       "    <tr>\n",
       "      <th>2305</th>\n",
       "      <td>24</td>\n",
       "      <td>1</td>\n",
       "      <td>4.0</td>\n",
       "      <td>1970-01-01</td>\n",
       "    </tr>\n",
       "    <tr>\n",
       "      <th>2306</th>\n",
       "      <td>24</td>\n",
       "      <td>34</td>\n",
       "      <td>4.0</td>\n",
       "      <td>1970-01-01</td>\n",
       "    </tr>\n",
       "    <tr>\n",
       "      <th>2307</th>\n",
       "      <td>24</td>\n",
       "      <td>65</td>\n",
       "      <td>3.0</td>\n",
       "      <td>1970-01-01</td>\n",
       "    </tr>\n",
       "    <tr>\n",
       "      <th>2308</th>\n",
       "      <td>24</td>\n",
       "      <td>260</td>\n",
       "      <td>3.0</td>\n",
       "      <td>1970-01-01</td>\n",
       "    </tr>\n",
       "    <tr>\n",
       "      <th>2309</th>\n",
       "      <td>24</td>\n",
       "      <td>333</td>\n",
       "      <td>1.0</td>\n",
       "      <td>1970-01-01</td>\n",
       "    </tr>\n",
       "  </tbody>\n",
       "</table>\n",
       "</div>"
      ],
      "text/plain": [
       "      userId  movieId  rating        date\n",
       "2305      24        1     4.0  1970-01-01\n",
       "2306      24       34     4.0  1970-01-01\n",
       "2307      24       65     3.0  1970-01-01\n",
       "2308      24      260     3.0  1970-01-01\n",
       "2309      24      333     1.0  1970-01-01"
      ]
     },
     "execution_count": 28,
     "metadata": {},
     "output_type": "execute_result"
    }
   ],
   "source": [
    "# delete those films where we have Nan in the \"year\"\n",
    "special_ratings_data = special_ratings_data[~(special_ratings_data[\"movieId\"].isin(movies_data[movies_data[\"year_shot\"].isna()][\"movieId\"]))]\n",
    "print(special_ratings_data.shape)\n",
    "special_ratings_data.head()"
   ]
  },
  {
   "cell_type": "code",
   "execution_count": 29,
   "metadata": {
    "execution": {
     "iopub.execute_input": "2022-06-13T15:27:36.851773Z",
     "iopub.status.busy": "2022-06-13T15:27:36.849428Z",
     "iopub.status.idle": "2022-06-13T15:27:36.878426Z",
     "shell.execute_reply": "2022-06-13T15:27:36.877694Z",
     "shell.execute_reply.started": "2022-06-13T15:27:36.851731Z"
    },
    "executionInfo": {
     "elapsed": 30,
     "status": "ok",
     "timestamp": 1655128376787,
     "user": {
      "displayName": "Алексей Шаков",
      "userId": "08626621059682709172"
     },
     "user_tz": -180
    },
    "id": "AeGrwSO4u5aZ",
    "outputId": "a1a05b5c-62b6-4d57-dd6a-806f3a88fc55",
    "trusted": true
   },
   "outputs": [
    {
     "name": "stdout",
     "output_type": "stream",
     "text": [
      "(86970, 4)\n"
     ]
    },
    {
     "data": {
      "text/html": [
       "<div>\n",
       "<style scoped>\n",
       "    .dataframe tbody tr th:only-of-type {\n",
       "        vertical-align: middle;\n",
       "    }\n",
       "\n",
       "    .dataframe tbody tr th {\n",
       "        vertical-align: top;\n",
       "    }\n",
       "\n",
       "    .dataframe thead th {\n",
       "        text-align: right;\n",
       "    }\n",
       "</style>\n",
       "<table border=\"1\" class=\"dataframe\">\n",
       "  <thead>\n",
       "    <tr style=\"text-align: right;\">\n",
       "      <th></th>\n",
       "      <th>movieId</th>\n",
       "      <th>title</th>\n",
       "      <th>genres</th>\n",
       "      <th>year_shot</th>\n",
       "    </tr>\n",
       "  </thead>\n",
       "  <tbody>\n",
       "    <tr>\n",
       "      <th>0</th>\n",
       "      <td>1</td>\n",
       "      <td>Toy Story (1995)</td>\n",
       "      <td>Adventure|Animation|Children|Comedy|Fantasy</td>\n",
       "      <td>1995</td>\n",
       "    </tr>\n",
       "    <tr>\n",
       "      <th>1</th>\n",
       "      <td>2</td>\n",
       "      <td>Jumanji (1995)</td>\n",
       "      <td>Adventure|Children|Fantasy</td>\n",
       "      <td>1995</td>\n",
       "    </tr>\n",
       "    <tr>\n",
       "      <th>2</th>\n",
       "      <td>3</td>\n",
       "      <td>Grumpier Old Men (1995)</td>\n",
       "      <td>Comedy|Romance</td>\n",
       "      <td>1995</td>\n",
       "    </tr>\n",
       "    <tr>\n",
       "      <th>3</th>\n",
       "      <td>4</td>\n",
       "      <td>Waiting to Exhale (1995)</td>\n",
       "      <td>Comedy|Drama|Romance</td>\n",
       "      <td>1995</td>\n",
       "    </tr>\n",
       "    <tr>\n",
       "      <th>4</th>\n",
       "      <td>5</td>\n",
       "      <td>Father of the Bride Part II (1995)</td>\n",
       "      <td>Comedy</td>\n",
       "      <td>1995</td>\n",
       "    </tr>\n",
       "  </tbody>\n",
       "</table>\n",
       "</div>"
      ],
      "text/plain": [
       "   movieId                               title  \\\n",
       "0        1                    Toy Story (1995)   \n",
       "1        2                      Jumanji (1995)   \n",
       "2        3             Grumpier Old Men (1995)   \n",
       "3        4            Waiting to Exhale (1995)   \n",
       "4        5  Father of the Bride Part II (1995)   \n",
       "\n",
       "                                        genres year_shot  \n",
       "0  Adventure|Animation|Children|Comedy|Fantasy      1995  \n",
       "1                   Adventure|Children|Fantasy      1995  \n",
       "2                               Comedy|Romance      1995  \n",
       "3                         Comedy|Drama|Romance      1995  \n",
       "4                                       Comedy      1995  "
      ]
     },
     "execution_count": 29,
     "metadata": {},
     "output_type": "execute_result"
    }
   ],
   "source": [
    "movies_data = movies_data[~(movies_data[\"year_shot\"].isna())]\n",
    "print(movies_data.shape)\n",
    "movies_data.head()"
   ]
  },
  {
   "cell_type": "code",
   "execution_count": 30,
   "metadata": {
    "execution": {
     "iopub.execute_input": "2022-06-13T15:27:41.544517Z",
     "iopub.status.busy": "2022-06-13T15:27:41.544147Z",
     "iopub.status.idle": "2022-06-13T15:27:41.553708Z",
     "shell.execute_reply": "2022-06-13T15:27:41.552813Z",
     "shell.execute_reply.started": "2022-06-13T15:27:41.544482Z"
    },
    "executionInfo": {
     "elapsed": 61,
     "status": "ok",
     "timestamp": 1655128382834,
     "user": {
      "displayName": "Алексей Шаков",
      "userId": "08626621059682709172"
     },
     "user_tz": -180
    },
    "id": "l1wTXYtHu5ac",
    "outputId": "d5c9c975-3eb1-49b0-f295-fd2890bca18b",
    "trusted": true
   },
   "outputs": [
    {
     "data": {
      "text/plain": [
       "array([1874, 1878, 1880, 1882, 1883, 1885, 1887, 1888, 1889, 1890, 1891,\n",
       "       1892, 1894, 1895, 1896, 1897, 1898, 1899, 1900, 1901, 1902, 1903,\n",
       "       1904, 1905, 1906, 1907, 1908, 1909, 1910, 1911, 1912, 1913, 1914,\n",
       "       1915, 1916, 1917, 1918, 1919, 1920, 1921, 1922, 1923, 1924, 1925,\n",
       "       1926, 1927, 1928, 1929, 1930, 1931, 1932, 1933, 1934, 1935, 1936,\n",
       "       1937, 1938, 1939, 1940, 1941, 1942, 1943, 1944, 1945, 1946, 1947,\n",
       "       1948, 1949, 1950, 1951, 1952, 1953, 1954, 1955, 1956, 1957, 1958,\n",
       "       1959, 1960, 1961, 1962, 1963, 1964, 1965, 1966, 1967, 1968, 1969,\n",
       "       1970, 1971, 1972, 1973, 1974, 1975, 1976, 1977, 1978, 1979, 1980,\n",
       "       1981, 1982, 1983, 1984, 1985, 1986, 1987, 1988, 1989, 1990, 1991,\n",
       "       1992, 1993, 1994, 1995, 1996, 1997, 1998, 1999, 2000, 2001, 2002,\n",
       "       2003, 2004, 2005, 2006, 2007, 2008, 2009, 2010, 2011, 2012, 2013,\n",
       "       2014, 2015, 2016, 2017, 2018, 2019, 2020, 2021, 2022, 2023],\n",
       "      dtype=object)"
      ]
     },
     "execution_count": 30,
     "metadata": {},
     "output_type": "execute_result"
    }
   ],
   "source": [
    "np.sort(movies_data[\"year_shot\"].unique())"
   ]
  },
  {
   "cell_type": "markdown",
   "metadata": {
    "id": "ebyQenwOu5ac"
   },
   "source": [
    "**Split the \"genre\" column in movies_data dataset**"
   ]
  },
  {
   "cell_type": "code",
   "execution_count": 31,
   "metadata": {
    "execution": {
     "iopub.execute_input": "2022-06-13T15:27:41.555820Z",
     "iopub.status.busy": "2022-06-13T15:27:41.555250Z",
     "iopub.status.idle": "2022-06-13T15:27:41.591764Z",
     "shell.execute_reply": "2022-06-13T15:27:41.591062Z",
     "shell.execute_reply.started": "2022-06-13T15:27:41.555783Z"
    },
    "executionInfo": {
     "elapsed": 56,
     "status": "ok",
     "timestamp": 1655128382836,
     "user": {
      "displayName": "Алексей Шаков",
      "userId": "08626621059682709172"
     },
     "user_tz": -180
    },
    "id": "oHmHJoMmu5ac",
    "outputId": "242df524-8e42-4eb4-d337-cac04f2d1d44",
    "trusted": true
   },
   "outputs": [
    {
     "data": {
      "text/html": [
       "<div>\n",
       "<style scoped>\n",
       "    .dataframe tbody tr th:only-of-type {\n",
       "        vertical-align: middle;\n",
       "    }\n",
       "\n",
       "    .dataframe tbody tr th {\n",
       "        vertical-align: top;\n",
       "    }\n",
       "\n",
       "    .dataframe thead th {\n",
       "        text-align: right;\n",
       "    }\n",
       "</style>\n",
       "<table border=\"1\" class=\"dataframe\">\n",
       "  <thead>\n",
       "    <tr style=\"text-align: right;\">\n",
       "      <th></th>\n",
       "      <th>movieId</th>\n",
       "      <th>title</th>\n",
       "      <th>genres</th>\n",
       "      <th>year_shot</th>\n",
       "      <th>genres_list</th>\n",
       "    </tr>\n",
       "  </thead>\n",
       "  <tbody>\n",
       "    <tr>\n",
       "      <th>0</th>\n",
       "      <td>1</td>\n",
       "      <td>Toy Story (1995)</td>\n",
       "      <td>Adventure|Animation|Children|Comedy|Fantasy</td>\n",
       "      <td>1995</td>\n",
       "      <td>[Adventure, Animation, Children, Comedy, Fantasy]</td>\n",
       "    </tr>\n",
       "    <tr>\n",
       "      <th>1</th>\n",
       "      <td>2</td>\n",
       "      <td>Jumanji (1995)</td>\n",
       "      <td>Adventure|Children|Fantasy</td>\n",
       "      <td>1995</td>\n",
       "      <td>[Adventure, Children, Fantasy]</td>\n",
       "    </tr>\n",
       "    <tr>\n",
       "      <th>2</th>\n",
       "      <td>3</td>\n",
       "      <td>Grumpier Old Men (1995)</td>\n",
       "      <td>Comedy|Romance</td>\n",
       "      <td>1995</td>\n",
       "      <td>[Comedy, Romance]</td>\n",
       "    </tr>\n",
       "    <tr>\n",
       "      <th>3</th>\n",
       "      <td>4</td>\n",
       "      <td>Waiting to Exhale (1995)</td>\n",
       "      <td>Comedy|Drama|Romance</td>\n",
       "      <td>1995</td>\n",
       "      <td>[Comedy, Drama, Romance]</td>\n",
       "    </tr>\n",
       "    <tr>\n",
       "      <th>4</th>\n",
       "      <td>5</td>\n",
       "      <td>Father of the Bride Part II (1995)</td>\n",
       "      <td>Comedy</td>\n",
       "      <td>1995</td>\n",
       "      <td>[Comedy]</td>\n",
       "    </tr>\n",
       "  </tbody>\n",
       "</table>\n",
       "</div>"
      ],
      "text/plain": [
       "   movieId                               title  \\\n",
       "0        1                    Toy Story (1995)   \n",
       "1        2                      Jumanji (1995)   \n",
       "2        3             Grumpier Old Men (1995)   \n",
       "3        4            Waiting to Exhale (1995)   \n",
       "4        5  Father of the Bride Part II (1995)   \n",
       "\n",
       "                                        genres year_shot  \\\n",
       "0  Adventure|Animation|Children|Comedy|Fantasy      1995   \n",
       "1                   Adventure|Children|Fantasy      1995   \n",
       "2                               Comedy|Romance      1995   \n",
       "3                         Comedy|Drama|Romance      1995   \n",
       "4                                       Comedy      1995   \n",
       "\n",
       "                                         genres_list  \n",
       "0  [Adventure, Animation, Children, Comedy, Fantasy]  \n",
       "1                     [Adventure, Children, Fantasy]  \n",
       "2                                  [Comedy, Romance]  \n",
       "3                           [Comedy, Drama, Romance]  \n",
       "4                                           [Comedy]  "
      ]
     },
     "execution_count": 31,
     "metadata": {},
     "output_type": "execute_result"
    }
   ],
   "source": [
    "movies_data[\"genres_list\"] = movies_data[\"genres\"].str.split(\"|\")\n",
    "movies_data.head()"
   ]
  },
  {
   "cell_type": "code",
   "execution_count": 32,
   "metadata": {
    "execution": {
     "iopub.execute_input": "2022-06-13T15:27:41.593006Z",
     "iopub.status.busy": "2022-06-13T15:27:41.592755Z",
     "iopub.status.idle": "2022-06-13T15:27:41.600967Z",
     "shell.execute_reply": "2022-06-13T15:27:41.600186Z",
     "shell.execute_reply.started": "2022-06-13T15:27:41.592984Z"
    },
    "executionInfo": {
     "elapsed": 593,
     "status": "ok",
     "timestamp": 1655128383378,
     "user": {
      "displayName": "Алексей Шаков",
      "userId": "08626621059682709172"
     },
     "user_tz": -180
    },
    "id": "9IICMMYwu5ad",
    "outputId": "fe891cd4-5d2c-40fc-dabf-6f6bb5f75a80",
    "trusted": true
   },
   "outputs": [
    {
     "data": {
      "text/plain": [
       "0    [Adventure, Animation, Children, Comedy, Fantasy]\n",
       "1                       [Adventure, Children, Fantasy]\n",
       "2                                    [Comedy, Romance]\n",
       "3                             [Comedy, Drama, Romance]\n",
       "4                                             [Comedy]\n",
       "Name: genres_list, dtype: object"
      ]
     },
     "execution_count": 32,
     "metadata": {},
     "output_type": "execute_result"
    }
   ],
   "source": [
    "# convert the \"genres_list columns\" to pd.Series in order to extract genres from the lists to seperate columns\n",
    "genres_list_to_series = pd.Series(movies_data.genres_list)\n",
    "genres_list_to_series.head()"
   ]
  },
  {
   "cell_type": "code",
   "execution_count": 33,
   "metadata": {},
   "outputs": [],
   "source": [
    "from sklearn.preprocessing import MultiLabelBinarizer\n",
    "from sklearn.model_selection import train_test_split\n",
    "from sklearn.utils import shuffle"
   ]
  },
  {
   "cell_type": "code",
   "execution_count": 34,
   "metadata": {
    "execution": {
     "iopub.execute_input": "2022-06-13T15:27:41.603208Z",
     "iopub.status.busy": "2022-06-13T15:27:41.602577Z",
     "iopub.status.idle": "2022-06-13T15:27:41.662680Z",
     "shell.execute_reply": "2022-06-13T15:27:41.661969Z",
     "shell.execute_reply.started": "2022-06-13T15:27:41.603169Z"
    },
    "executionInfo": {
     "elapsed": 63,
     "status": "ok",
     "timestamp": 1655128383380,
     "user": {
      "displayName": "Алексей Шаков",
      "userId": "08626621059682709172"
     },
     "user_tz": -180
    },
    "id": "7BHR9ziNu5ad",
    "outputId": "66443113-a006-4d8f-90d3-2750931e3305",
    "trusted": true
   },
   "outputs": [
    {
     "data": {
      "text/html": [
       "<div>\n",
       "<style scoped>\n",
       "    .dataframe tbody tr th:only-of-type {\n",
       "        vertical-align: middle;\n",
       "    }\n",
       "\n",
       "    .dataframe tbody tr th {\n",
       "        vertical-align: top;\n",
       "    }\n",
       "\n",
       "    .dataframe thead th {\n",
       "        text-align: right;\n",
       "    }\n",
       "</style>\n",
       "<table border=\"1\" class=\"dataframe\">\n",
       "  <thead>\n",
       "    <tr style=\"text-align: right;\">\n",
       "      <th></th>\n",
       "      <th>(no genres listed)</th>\n",
       "      <th>Action</th>\n",
       "      <th>Adventure</th>\n",
       "      <th>Animation</th>\n",
       "      <th>Children</th>\n",
       "      <th>Comedy</th>\n",
       "      <th>Crime</th>\n",
       "      <th>Documentary</th>\n",
       "      <th>Drama</th>\n",
       "      <th>Fantasy</th>\n",
       "      <th>Film-Noir</th>\n",
       "      <th>Horror</th>\n",
       "      <th>IMAX</th>\n",
       "      <th>Musical</th>\n",
       "      <th>Mystery</th>\n",
       "      <th>Romance</th>\n",
       "      <th>Sci-Fi</th>\n",
       "      <th>Thriller</th>\n",
       "      <th>War</th>\n",
       "      <th>Western</th>\n",
       "    </tr>\n",
       "  </thead>\n",
       "  <tbody>\n",
       "    <tr>\n",
       "      <th>0</th>\n",
       "      <td>0</td>\n",
       "      <td>0</td>\n",
       "      <td>1</td>\n",
       "      <td>1</td>\n",
       "      <td>1</td>\n",
       "      <td>1</td>\n",
       "      <td>0</td>\n",
       "      <td>0</td>\n",
       "      <td>0</td>\n",
       "      <td>1</td>\n",
       "      <td>0</td>\n",
       "      <td>0</td>\n",
       "      <td>0</td>\n",
       "      <td>0</td>\n",
       "      <td>0</td>\n",
       "      <td>0</td>\n",
       "      <td>0</td>\n",
       "      <td>0</td>\n",
       "      <td>0</td>\n",
       "      <td>0</td>\n",
       "    </tr>\n",
       "    <tr>\n",
       "      <th>1</th>\n",
       "      <td>0</td>\n",
       "      <td>0</td>\n",
       "      <td>1</td>\n",
       "      <td>0</td>\n",
       "      <td>1</td>\n",
       "      <td>0</td>\n",
       "      <td>0</td>\n",
       "      <td>0</td>\n",
       "      <td>0</td>\n",
       "      <td>1</td>\n",
       "      <td>0</td>\n",
       "      <td>0</td>\n",
       "      <td>0</td>\n",
       "      <td>0</td>\n",
       "      <td>0</td>\n",
       "      <td>0</td>\n",
       "      <td>0</td>\n",
       "      <td>0</td>\n",
       "      <td>0</td>\n",
       "      <td>0</td>\n",
       "    </tr>\n",
       "    <tr>\n",
       "      <th>2</th>\n",
       "      <td>0</td>\n",
       "      <td>0</td>\n",
       "      <td>0</td>\n",
       "      <td>0</td>\n",
       "      <td>0</td>\n",
       "      <td>1</td>\n",
       "      <td>0</td>\n",
       "      <td>0</td>\n",
       "      <td>0</td>\n",
       "      <td>0</td>\n",
       "      <td>0</td>\n",
       "      <td>0</td>\n",
       "      <td>0</td>\n",
       "      <td>0</td>\n",
       "      <td>0</td>\n",
       "      <td>1</td>\n",
       "      <td>0</td>\n",
       "      <td>0</td>\n",
       "      <td>0</td>\n",
       "      <td>0</td>\n",
       "    </tr>\n",
       "    <tr>\n",
       "      <th>3</th>\n",
       "      <td>0</td>\n",
       "      <td>0</td>\n",
       "      <td>0</td>\n",
       "      <td>0</td>\n",
       "      <td>0</td>\n",
       "      <td>1</td>\n",
       "      <td>0</td>\n",
       "      <td>0</td>\n",
       "      <td>1</td>\n",
       "      <td>0</td>\n",
       "      <td>0</td>\n",
       "      <td>0</td>\n",
       "      <td>0</td>\n",
       "      <td>0</td>\n",
       "      <td>0</td>\n",
       "      <td>1</td>\n",
       "      <td>0</td>\n",
       "      <td>0</td>\n",
       "      <td>0</td>\n",
       "      <td>0</td>\n",
       "    </tr>\n",
       "    <tr>\n",
       "      <th>4</th>\n",
       "      <td>0</td>\n",
       "      <td>0</td>\n",
       "      <td>0</td>\n",
       "      <td>0</td>\n",
       "      <td>0</td>\n",
       "      <td>1</td>\n",
       "      <td>0</td>\n",
       "      <td>0</td>\n",
       "      <td>0</td>\n",
       "      <td>0</td>\n",
       "      <td>0</td>\n",
       "      <td>0</td>\n",
       "      <td>0</td>\n",
       "      <td>0</td>\n",
       "      <td>0</td>\n",
       "      <td>0</td>\n",
       "      <td>0</td>\n",
       "      <td>0</td>\n",
       "      <td>0</td>\n",
       "      <td>0</td>\n",
       "    </tr>\n",
       "  </tbody>\n",
       "</table>\n",
       "</div>"
      ],
      "text/plain": [
       "   (no genres listed)  Action  Adventure  Animation  Children  Comedy  Crime  \\\n",
       "0                   0       0          1          1         1       1      0   \n",
       "1                   0       0          1          0         1       0      0   \n",
       "2                   0       0          0          0         0       1      0   \n",
       "3                   0       0          0          0         0       1      0   \n",
       "4                   0       0          0          0         0       1      0   \n",
       "\n",
       "   Documentary  Drama  Fantasy  Film-Noir  Horror  IMAX  Musical  Mystery  \\\n",
       "0            0      0        1          0       0     0        0        0   \n",
       "1            0      0        1          0       0     0        0        0   \n",
       "2            0      0        0          0       0     0        0        0   \n",
       "3            0      1        0          0       0     0        0        0   \n",
       "4            0      0        0          0       0     0        0        0   \n",
       "\n",
       "   Romance  Sci-Fi  Thriller  War  Western  \n",
       "0        0       0         0    0        0  \n",
       "1        0       0         0    0        0  \n",
       "2        1       0         0    0        0  \n",
       "3        1       0         0    0        0  \n",
       "4        0       0         0    0        0  "
      ]
     },
     "execution_count": 34,
     "metadata": {},
     "output_type": "execute_result"
    }
   ],
   "source": [
    "# for exploding lists we will use MultiLabelBinarizer()\n",
    "m1b = MultiLabelBinarizer()\n",
    "one_hot_genres = pd.DataFrame(m1b.fit_transform(genres_list_to_series), columns=m1b.classes_)\n",
    "one_hot_genres.head()"
   ]
  },
  {
   "cell_type": "code",
   "execution_count": 35,
   "metadata": {
    "execution": {
     "iopub.execute_input": "2022-06-13T15:27:41.664729Z",
     "iopub.status.busy": "2022-06-13T15:27:41.664239Z",
     "iopub.status.idle": "2022-06-13T15:27:41.675005Z",
     "shell.execute_reply": "2022-06-13T15:27:41.674287Z",
     "shell.execute_reply.started": "2022-06-13T15:27:41.664694Z"
    },
    "executionInfo": {
     "elapsed": 62,
     "status": "ok",
     "timestamp": 1655128383381,
     "user": {
      "displayName": "Алексей Шаков",
      "userId": "08626621059682709172"
     },
     "user_tz": -180
    },
    "id": "HmTYpxcLu5ae",
    "outputId": "30768c20-bbf9-4131-fff1-d552fe81a422",
    "trusted": true
   },
   "outputs": [
    {
     "data": {
      "text/plain": [
       "(no genres listed)    0\n",
       "Action                0\n",
       "Adventure             0\n",
       "Animation             0\n",
       "Children              0\n",
       "Comedy                0\n",
       "Crime                 0\n",
       "Documentary           0\n",
       "Drama                 0\n",
       "Fantasy               0\n",
       "Film-Noir             0\n",
       "Horror                0\n",
       "IMAX                  0\n",
       "Musical               0\n",
       "Mystery               0\n",
       "Romance               0\n",
       "Sci-Fi                0\n",
       "Thriller              0\n",
       "War                   0\n",
       "Western               0\n",
       "dtype: int64"
      ]
     },
     "execution_count": 35,
     "metadata": {},
     "output_type": "execute_result"
    }
   ],
   "source": [
    "one_hot_genres.isnull().sum()"
   ]
  },
  {
   "cell_type": "markdown",
   "metadata": {
    "id": "aFjUNmUwu5ae"
   },
   "source": [
    "**Let's see how many films have \"no genres listed\"**"
   ]
  },
  {
   "cell_type": "code",
   "execution_count": 36,
   "metadata": {
    "execution": {
     "iopub.execute_input": "2022-06-13T15:27:41.676795Z",
     "iopub.status.busy": "2022-06-13T15:27:41.676273Z",
     "iopub.status.idle": "2022-06-13T15:27:41.683658Z",
     "shell.execute_reply": "2022-06-13T15:27:41.682545Z",
     "shell.execute_reply.started": "2022-06-13T15:27:41.676760Z"
    },
    "executionInfo": {
     "elapsed": 58,
     "status": "ok",
     "timestamp": 1655128383382,
     "user": {
      "displayName": "Алексей Шаков",
      "userId": "08626621059682709172"
     },
     "user_tz": -180
    },
    "id": "CsiuGmHMu5ae",
    "outputId": "860b1293-0a34-4cff-e859-28cb3203aa3c",
    "trusted": true
   },
   "outputs": [
    {
     "name": "stdout",
     "output_type": "stream",
     "text": [
      "The amount of films without genres -  6707\n"
     ]
    }
   ],
   "source": [
    "print(\"The amount of films without genres - \",len(one_hot_genres[one_hot_genres[\"(no genres listed)\"]==1]))"
   ]
  },
  {
   "cell_type": "code",
   "execution_count": 37,
   "metadata": {
    "execution": {
     "iopub.execute_input": "2022-06-13T15:27:41.685957Z",
     "iopub.status.busy": "2022-06-13T15:27:41.685182Z",
     "iopub.status.idle": "2022-06-13T15:27:41.692600Z",
     "shell.execute_reply": "2022-06-13T15:27:41.691620Z",
     "shell.execute_reply.started": "2022-06-13T15:27:41.685921Z"
    },
    "executionInfo": {
     "elapsed": 55,
     "status": "ok",
     "timestamp": 1655128383383,
     "user": {
      "displayName": "Алексей Шаков",
      "userId": "08626621059682709172"
     },
     "user_tz": -180
    },
    "id": "p7wVYzCru5af",
    "outputId": "d13248ca-f017-47d5-d016-20073befdd27",
    "trusted": true
   },
   "outputs": [
    {
     "name": "stdout",
     "output_type": "stream",
     "text": [
      "The percentage of films which don't have genres 8 %\n"
     ]
    }
   ],
   "source": [
    "print(\"The percentage of films which don't have genres\", round(len(one_hot_genres[one_hot_genres[\"(no genres listed)\"]==1])/len(one_hot_genres) * 100), \"%\")"
   ]
  },
  {
   "cell_type": "markdown",
   "metadata": {
    "id": "aOFV52C4u5ag"
   },
   "source": [
    "**Concat the dataframe with seperate genres with the main dataframe**"
   ]
  },
  {
   "cell_type": "code",
   "execution_count": 38,
   "metadata": {
    "execution": {
     "iopub.execute_input": "2022-06-13T15:27:41.724220Z",
     "iopub.status.busy": "2022-06-13T15:27:41.723974Z",
     "iopub.status.idle": "2022-06-13T15:27:41.752865Z",
     "shell.execute_reply": "2022-06-13T15:27:41.752139Z",
     "shell.execute_reply.started": "2022-06-13T15:27:41.724198Z"
    },
    "executionInfo": {
     "elapsed": 52,
     "status": "ok",
     "timestamp": 1655128383385,
     "user": {
      "displayName": "Алексей Шаков",
      "userId": "08626621059682709172"
     },
     "user_tz": -180
    },
    "id": "efYt0Ed9u5ag",
    "outputId": "101e5594-180e-470e-830c-3286d5532e06",
    "trusted": true
   },
   "outputs": [
    {
     "data": {
      "text/html": [
       "<div>\n",
       "<style scoped>\n",
       "    .dataframe tbody tr th:only-of-type {\n",
       "        vertical-align: middle;\n",
       "    }\n",
       "\n",
       "    .dataframe tbody tr th {\n",
       "        vertical-align: top;\n",
       "    }\n",
       "\n",
       "    .dataframe thead th {\n",
       "        text-align: right;\n",
       "    }\n",
       "</style>\n",
       "<table border=\"1\" class=\"dataframe\">\n",
       "  <thead>\n",
       "    <tr style=\"text-align: right;\">\n",
       "      <th></th>\n",
       "      <th>movieId</th>\n",
       "      <th>title</th>\n",
       "      <th>genres</th>\n",
       "      <th>year_shot</th>\n",
       "      <th>genres_list</th>\n",
       "      <th>(no genres listed)</th>\n",
       "      <th>Action</th>\n",
       "      <th>Adventure</th>\n",
       "      <th>Animation</th>\n",
       "      <th>Children</th>\n",
       "      <th>...</th>\n",
       "      <th>Film-Noir</th>\n",
       "      <th>Horror</th>\n",
       "      <th>IMAX</th>\n",
       "      <th>Musical</th>\n",
       "      <th>Mystery</th>\n",
       "      <th>Romance</th>\n",
       "      <th>Sci-Fi</th>\n",
       "      <th>Thriller</th>\n",
       "      <th>War</th>\n",
       "      <th>Western</th>\n",
       "    </tr>\n",
       "  </thead>\n",
       "  <tbody>\n",
       "    <tr>\n",
       "      <th>0</th>\n",
       "      <td>1</td>\n",
       "      <td>Toy Story (1995)</td>\n",
       "      <td>Adventure|Animation|Children|Comedy|Fantasy</td>\n",
       "      <td>1995</td>\n",
       "      <td>[Adventure, Animation, Children, Comedy, Fantasy]</td>\n",
       "      <td>0</td>\n",
       "      <td>0</td>\n",
       "      <td>1</td>\n",
       "      <td>1</td>\n",
       "      <td>1</td>\n",
       "      <td>...</td>\n",
       "      <td>0</td>\n",
       "      <td>0</td>\n",
       "      <td>0</td>\n",
       "      <td>0</td>\n",
       "      <td>0</td>\n",
       "      <td>0</td>\n",
       "      <td>0</td>\n",
       "      <td>0</td>\n",
       "      <td>0</td>\n",
       "      <td>0</td>\n",
       "    </tr>\n",
       "    <tr>\n",
       "      <th>1</th>\n",
       "      <td>2</td>\n",
       "      <td>Jumanji (1995)</td>\n",
       "      <td>Adventure|Children|Fantasy</td>\n",
       "      <td>1995</td>\n",
       "      <td>[Adventure, Children, Fantasy]</td>\n",
       "      <td>0</td>\n",
       "      <td>0</td>\n",
       "      <td>1</td>\n",
       "      <td>0</td>\n",
       "      <td>1</td>\n",
       "      <td>...</td>\n",
       "      <td>0</td>\n",
       "      <td>0</td>\n",
       "      <td>0</td>\n",
       "      <td>0</td>\n",
       "      <td>0</td>\n",
       "      <td>0</td>\n",
       "      <td>0</td>\n",
       "      <td>0</td>\n",
       "      <td>0</td>\n",
       "      <td>0</td>\n",
       "    </tr>\n",
       "    <tr>\n",
       "      <th>2</th>\n",
       "      <td>3</td>\n",
       "      <td>Grumpier Old Men (1995)</td>\n",
       "      <td>Comedy|Romance</td>\n",
       "      <td>1995</td>\n",
       "      <td>[Comedy, Romance]</td>\n",
       "      <td>0</td>\n",
       "      <td>0</td>\n",
       "      <td>0</td>\n",
       "      <td>0</td>\n",
       "      <td>0</td>\n",
       "      <td>...</td>\n",
       "      <td>0</td>\n",
       "      <td>0</td>\n",
       "      <td>0</td>\n",
       "      <td>0</td>\n",
       "      <td>0</td>\n",
       "      <td>1</td>\n",
       "      <td>0</td>\n",
       "      <td>0</td>\n",
       "      <td>0</td>\n",
       "      <td>0</td>\n",
       "    </tr>\n",
       "    <tr>\n",
       "      <th>3</th>\n",
       "      <td>4</td>\n",
       "      <td>Waiting to Exhale (1995)</td>\n",
       "      <td>Comedy|Drama|Romance</td>\n",
       "      <td>1995</td>\n",
       "      <td>[Comedy, Drama, Romance]</td>\n",
       "      <td>0</td>\n",
       "      <td>0</td>\n",
       "      <td>0</td>\n",
       "      <td>0</td>\n",
       "      <td>0</td>\n",
       "      <td>...</td>\n",
       "      <td>0</td>\n",
       "      <td>0</td>\n",
       "      <td>0</td>\n",
       "      <td>0</td>\n",
       "      <td>0</td>\n",
       "      <td>1</td>\n",
       "      <td>0</td>\n",
       "      <td>0</td>\n",
       "      <td>0</td>\n",
       "      <td>0</td>\n",
       "    </tr>\n",
       "    <tr>\n",
       "      <th>4</th>\n",
       "      <td>5</td>\n",
       "      <td>Father of the Bride Part II (1995)</td>\n",
       "      <td>Comedy</td>\n",
       "      <td>1995</td>\n",
       "      <td>[Comedy]</td>\n",
       "      <td>0</td>\n",
       "      <td>0</td>\n",
       "      <td>0</td>\n",
       "      <td>0</td>\n",
       "      <td>0</td>\n",
       "      <td>...</td>\n",
       "      <td>0</td>\n",
       "      <td>0</td>\n",
       "      <td>0</td>\n",
       "      <td>0</td>\n",
       "      <td>0</td>\n",
       "      <td>0</td>\n",
       "      <td>0</td>\n",
       "      <td>0</td>\n",
       "      <td>0</td>\n",
       "      <td>0</td>\n",
       "    </tr>\n",
       "  </tbody>\n",
       "</table>\n",
       "<p>5 rows × 25 columns</p>\n",
       "</div>"
      ],
      "text/plain": [
       "   movieId                               title  \\\n",
       "0        1                    Toy Story (1995)   \n",
       "1        2                      Jumanji (1995)   \n",
       "2        3             Grumpier Old Men (1995)   \n",
       "3        4            Waiting to Exhale (1995)   \n",
       "4        5  Father of the Bride Part II (1995)   \n",
       "\n",
       "                                        genres year_shot  \\\n",
       "0  Adventure|Animation|Children|Comedy|Fantasy      1995   \n",
       "1                   Adventure|Children|Fantasy      1995   \n",
       "2                               Comedy|Romance      1995   \n",
       "3                         Comedy|Drama|Romance      1995   \n",
       "4                                       Comedy      1995   \n",
       "\n",
       "                                         genres_list  (no genres listed)  \\\n",
       "0  [Adventure, Animation, Children, Comedy, Fantasy]                   0   \n",
       "1                     [Adventure, Children, Fantasy]                   0   \n",
       "2                                  [Comedy, Romance]                   0   \n",
       "3                           [Comedy, Drama, Romance]                   0   \n",
       "4                                           [Comedy]                   0   \n",
       "\n",
       "   Action  Adventure  Animation  Children  ...  Film-Noir  Horror  IMAX  \\\n",
       "0       0          1          1         1  ...          0       0     0   \n",
       "1       0          1          0         1  ...          0       0     0   \n",
       "2       0          0          0         0  ...          0       0     0   \n",
       "3       0          0          0         0  ...          0       0     0   \n",
       "4       0          0          0         0  ...          0       0     0   \n",
       "\n",
       "   Musical  Mystery  Romance  Sci-Fi  Thriller  War  Western  \n",
       "0        0        0        0       0         0    0        0  \n",
       "1        0        0        0       0         0    0        0  \n",
       "2        0        0        1       0         0    0        0  \n",
       "3        0        0        1       0         0    0        0  \n",
       "4        0        0        0       0         0    0        0  \n",
       "\n",
       "[5 rows x 25 columns]"
      ]
     },
     "execution_count": 38,
     "metadata": {},
     "output_type": "execute_result"
    }
   ],
   "source": [
    "movies_data_concat = pd.concat([movies_data.reset_index(drop=True), one_hot_genres.reset_index(drop=True)], axis=1)\n",
    "movies_data_concat.head()"
   ]
  },
  {
   "cell_type": "code",
   "execution_count": 39,
   "metadata": {
    "execution": {
     "iopub.execute_input": "2022-06-13T15:27:41.754540Z",
     "iopub.status.busy": "2022-06-13T15:27:41.754183Z",
     "iopub.status.idle": "2022-06-13T15:27:41.775599Z",
     "shell.execute_reply": "2022-06-13T15:27:41.774804Z",
     "shell.execute_reply.started": "2022-06-13T15:27:41.754506Z"
    },
    "executionInfo": {
     "elapsed": 51,
     "status": "ok",
     "timestamp": 1655128383386,
     "user": {
      "displayName": "Алексей Шаков",
      "userId": "08626621059682709172"
     },
     "user_tz": -180
    },
    "id": "3Qw4FSuzu5ag",
    "outputId": "8889b5c7-6d19-48d0-f840-9c06177f8bc8",
    "trusted": true
   },
   "outputs": [
    {
     "data": {
      "text/plain": [
       "movieId               0\n",
       "title                 0\n",
       "genres                0\n",
       "year_shot             0\n",
       "genres_list           0\n",
       "(no genres listed)    0\n",
       "Action                0\n",
       "Adventure             0\n",
       "Animation             0\n",
       "Children              0\n",
       "Comedy                0\n",
       "Crime                 0\n",
       "Documentary           0\n",
       "Drama                 0\n",
       "Fantasy               0\n",
       "Film-Noir             0\n",
       "Horror                0\n",
       "IMAX                  0\n",
       "Musical               0\n",
       "Mystery               0\n",
       "Romance               0\n",
       "Sci-Fi                0\n",
       "Thriller              0\n",
       "War                   0\n",
       "Western               0\n",
       "dtype: int64"
      ]
     },
     "execution_count": 39,
     "metadata": {},
     "output_type": "execute_result"
    }
   ],
   "source": [
    "movies_data_concat.isnull().sum()"
   ]
  },
  {
   "cell_type": "code",
   "execution_count": 40,
   "metadata": {
    "execution": {
     "iopub.execute_input": "2022-06-13T15:27:41.777148Z",
     "iopub.status.busy": "2022-06-13T15:27:41.776818Z",
     "iopub.status.idle": "2022-06-13T15:27:41.804625Z",
     "shell.execute_reply": "2022-06-13T15:27:41.803789Z",
     "shell.execute_reply.started": "2022-06-13T15:27:41.777115Z"
    },
    "executionInfo": {
     "elapsed": 49,
     "status": "ok",
     "timestamp": 1655128383388,
     "user": {
      "displayName": "Алексей Шаков",
      "userId": "08626621059682709172"
     },
     "user_tz": -180
    },
    "id": "cEmNlj5zu5ah",
    "outputId": "adc390a1-58f4-4235-ce09-73fb6183f898",
    "trusted": true
   },
   "outputs": [
    {
     "name": "stdout",
     "output_type": "stream",
     "text": [
      "<class 'pandas.core.frame.DataFrame'>\n",
      "RangeIndex: 86970 entries, 0 to 86969\n",
      "Data columns (total 25 columns):\n",
      " #   Column              Non-Null Count  Dtype \n",
      "---  ------              --------------  ----- \n",
      " 0   movieId             86970 non-null  int64 \n",
      " 1   title               86970 non-null  object\n",
      " 2   genres              86970 non-null  object\n",
      " 3   year_shot           86970 non-null  object\n",
      " 4   genres_list         86970 non-null  object\n",
      " 5   (no genres listed)  86970 non-null  int64 \n",
      " 6   Action              86970 non-null  int64 \n",
      " 7   Adventure           86970 non-null  int64 \n",
      " 8   Animation           86970 non-null  int64 \n",
      " 9   Children            86970 non-null  int64 \n",
      " 10  Comedy              86970 non-null  int64 \n",
      " 11  Crime               86970 non-null  int64 \n",
      " 12  Documentary         86970 non-null  int64 \n",
      " 13  Drama               86970 non-null  int64 \n",
      " 14  Fantasy             86970 non-null  int64 \n",
      " 15  Film-Noir           86970 non-null  int64 \n",
      " 16  Horror              86970 non-null  int64 \n",
      " 17  IMAX                86970 non-null  int64 \n",
      " 18  Musical             86970 non-null  int64 \n",
      " 19  Mystery             86970 non-null  int64 \n",
      " 20  Romance             86970 non-null  int64 \n",
      " 21  Sci-Fi              86970 non-null  int64 \n",
      " 22  Thriller            86970 non-null  int64 \n",
      " 23  War                 86970 non-null  int64 \n",
      " 24  Western             86970 non-null  int64 \n",
      "dtypes: int64(21), object(4)\n",
      "memory usage: 16.6+ MB\n"
     ]
    }
   ],
   "source": [
    "movies_data_concat.info()"
   ]
  },
  {
   "cell_type": "markdown",
   "metadata": {
    "id": "Lbf_aqpYu5ah"
   },
   "source": [
    "# 4 Splitting to train and test datasets"
   ]
  },
  {
   "cell_type": "markdown",
   "metadata": {
    "id": "hEi7UhrSu5ah"
   },
   "source": [
    "We will split our data to global train(for training the RL model) and global test(for testing the results of RL model)."
   ]
  },
  {
   "cell_type": "markdown",
   "metadata": {
    "id": "o76YBukAu5ai"
   },
   "source": [
    "**For more clarity**"
   ]
  },
  {
   "cell_type": "code",
   "execution_count": null,
   "metadata": {
    "execution": {
     "iopub.execute_input": "2022-06-13T15:27:41.806661Z",
     "iopub.status.busy": "2022-06-13T15:27:41.806006Z",
     "iopub.status.idle": "2022-06-13T15:27:41.832269Z",
     "shell.execute_reply": "2022-06-13T15:27:41.831379Z",
     "shell.execute_reply.started": "2022-06-13T15:27:41.806627Z"
    },
    "executionInfo": {
     "elapsed": 46,
     "status": "ok",
     "timestamp": 1655128383389,
     "user": {
      "displayName": "Алексей Шаков",
      "userId": "08626621059682709172"
     },
     "user_tz": -180
    },
    "id": "QPwpyvMiu5ai",
    "outputId": "e0a2d906-e66e-483e-c79e-13fd5fd34ca1",
    "trusted": true
   },
   "outputs": [
    {
     "name": "stdout",
     "output_type": "stream",
     "text": [
      "Total number of people 790\n",
      "Max value of movies watched -  33229\n",
      "Min value of movies watched -  20\n",
      "Mean value of the number watched movies -  323.0\n"
     ]
    },
    {
     "data": {
      "text/html": [
       "<div>\n",
       "<style scoped>\n",
       "    .dataframe tbody tr th:only-of-type {\n",
       "        vertical-align: middle;\n",
       "    }\n",
       "\n",
       "    .dataframe tbody tr th {\n",
       "        vertical-align: top;\n",
       "    }\n",
       "\n",
       "    .dataframe thead th {\n",
       "        text-align: right;\n",
       "    }\n",
       "</style>\n",
       "<table border=\"1\" class=\"dataframe\">\n",
       "  <thead>\n",
       "    <tr style=\"text-align: right;\">\n",
       "      <th></th>\n",
       "      <th>userId</th>\n",
       "      <th>number_of_movies</th>\n",
       "    </tr>\n",
       "  </thead>\n",
       "  <tbody>\n",
       "    <tr>\n",
       "      <th>count</th>\n",
       "      <td>790.000000</td>\n",
       "      <td>790.000000</td>\n",
       "    </tr>\n",
       "    <tr>\n",
       "      <th>mean</th>\n",
       "      <td>100800.783544</td>\n",
       "      <td>671.193671</td>\n",
       "    </tr>\n",
       "    <tr>\n",
       "      <th>std</th>\n",
       "      <td>59229.860156</td>\n",
       "      <td>1493.802046</td>\n",
       "    </tr>\n",
       "    <tr>\n",
       "      <th>min</th>\n",
       "      <td>24.000000</td>\n",
       "      <td>20.000000</td>\n",
       "    </tr>\n",
       "    <tr>\n",
       "      <th>25%</th>\n",
       "      <td>46952.000000</td>\n",
       "      <td>135.000000</td>\n",
       "    </tr>\n",
       "    <tr>\n",
       "      <th>50%</th>\n",
       "      <td>102317.000000</td>\n",
       "      <td>323.000000</td>\n",
       "    </tr>\n",
       "    <tr>\n",
       "      <th>75%</th>\n",
       "      <td>151319.250000</td>\n",
       "      <td>734.500000</td>\n",
       "    </tr>\n",
       "    <tr>\n",
       "      <th>max</th>\n",
       "      <td>200811.000000</td>\n",
       "      <td>33229.000000</td>\n",
       "    </tr>\n",
       "  </tbody>\n",
       "</table>\n",
       "</div>"
      ],
      "text/plain": [
       "              userId  number_of_movies\n",
       "count     790.000000        790.000000\n",
       "mean   100800.783544        671.193671\n",
       "std     59229.860156       1493.802046\n",
       "min        24.000000         20.000000\n",
       "25%     46952.000000        135.000000\n",
       "50%    102317.000000        323.000000\n",
       "75%    151319.250000        734.500000\n",
       "max    200811.000000      33229.000000"
      ]
     },
     "execution_count": 49,
     "metadata": {},
     "output_type": "execute_result"
    }
   ],
   "source": [
    "# let's see how many films each person has in the dataframe\n",
    "number_movies = special_ratings_data[[\"userId\", \"movieId\"]].groupby(\"userId\")[\"movieId\"].count().\\\n",
    "                to_frame().reset_index().rename(columns={\"movieId\": \"number_of_movies\"})\n",
    "print(\"Total number of people\", len(number_movies))\n",
    "print(\"Max value of movies watched - \", number_movies[\"number_of_movies\"].max())\n",
    "print(\"Min value of movies watched - \", number_movies[\"number_of_movies\"].min())\n",
    "print(\"Mean value of the number watched movies - \", number_movies[\"number_of_movies\"].mean())\n",
    "number_movies.head()"
   ]
  },
  {
   "cell_type": "code",
   "execution_count": 42,
   "metadata": {
    "execution": {
     "iopub.execute_input": "2022-06-13T15:27:41.834247Z",
     "iopub.status.busy": "2022-06-13T15:27:41.833724Z",
     "iopub.status.idle": "2022-06-13T15:27:41.977040Z",
     "shell.execute_reply": "2022-06-13T15:27:41.976211Z",
     "shell.execute_reply.started": "2022-06-13T15:27:41.834213Z"
    },
    "executionInfo": {
     "elapsed": 40,
     "status": "ok",
     "timestamp": 1655128383389,
     "user": {
      "displayName": "Алексей Шаков",
      "userId": "08626621059682709172"
     },
     "user_tz": -180
    },
    "id": "Xs-UJm6yu5aj",
    "outputId": "e1c1f5f7-3521-4699-df75-ee8a5dfd6f4d",
    "trusted": true
   },
   "outputs": [
    {
     "data": {
      "text/plain": [
       "<Axes: xlabel='number_of_movies'>"
      ]
     },
     "execution_count": 42,
     "metadata": {},
     "output_type": "execute_result"
    },
    {
     "data": {
      "image/png": "[encoded data removed]",
      "text/plain": [
       "<Figure size 800x600 with 1 Axes>"
      ]
     },
     "metadata": {},
     "output_type": "display_data"
    }
   ],
   "source": [
    "fig = plt.figure(figsize=(8, 6))\n",
    "sns.boxplot(x=number_movies[\"number_of_movies\"])"
   ]
  },
  {
   "cell_type": "markdown",
   "metadata": {
    "id": "I0DjmQ1wu5aj"
   },
   "source": [
    "As we don't have the true time when a movie was watched it's hard to generate good recommendations. I mean if we had the time we would cut the last n-days to the test set and try to predict recommendations based on other days. We would simulate the real situation by splitting the initial data in such way.\n",
    "\n",
    "So I suggest to get rid of users which have less than 100 movies watched, after that to cut 50 movies for test and the rest for train."
   ]
  },
  {
   "cell_type": "code",
   "execution_count": 43,
   "metadata": {
    "execution": {
     "iopub.execute_input": "2022-06-13T15:27:41.983875Z",
     "iopub.status.busy": "2022-06-13T15:27:41.981329Z",
     "iopub.status.idle": "2022-06-13T15:27:42.004230Z",
     "shell.execute_reply": "2022-06-13T15:27:42.003537Z",
     "shell.execute_reply.started": "2022-06-13T15:27:41.983831Z"
    },
    "executionInfo": {
     "elapsed": 590,
     "status": "ok",
     "timestamp": 1655128383943,
     "user": {
      "displayName": "Алексей Шаков",
      "userId": "08626621059682709172"
     },
     "user_tz": -180
    },
    "id": "VmmSMZkGu5aj",
    "outputId": "b9e56a93-414d-4d05-b7ae-eb8802d4d99e",
    "trusted": true
   },
   "outputs": [
    {
     "name": "stdout",
     "output_type": "stream",
     "text": [
      "(647, 2)\n"
     ]
    },
    {
     "data": {
      "text/html": [
       "<div>\n",
       "<style scoped>\n",
       "    .dataframe tbody tr th:only-of-type {\n",
       "        vertical-align: middle;\n",
       "    }\n",
       "\n",
       "    .dataframe tbody tr th {\n",
       "        vertical-align: top;\n",
       "    }\n",
       "\n",
       "    .dataframe thead th {\n",
       "        text-align: right;\n",
       "    }\n",
       "</style>\n",
       "<table border=\"1\" class=\"dataframe\">\n",
       "  <thead>\n",
       "    <tr style=\"text-align: right;\">\n",
       "      <th></th>\n",
       "      <th>userId</th>\n",
       "      <th>number_of_movies</th>\n",
       "    </tr>\n",
       "  </thead>\n",
       "  <tbody>\n",
       "    <tr>\n",
       "      <th>2</th>\n",
       "      <td>245</td>\n",
       "      <td>594</td>\n",
       "    </tr>\n",
       "    <tr>\n",
       "      <th>3</th>\n",
       "      <td>328</td>\n",
       "      <td>930</td>\n",
       "    </tr>\n",
       "    <tr>\n",
       "      <th>5</th>\n",
       "      <td>702</td>\n",
       "      <td>1113</td>\n",
       "    </tr>\n",
       "    <tr>\n",
       "      <th>6</th>\n",
       "      <td>1707</td>\n",
       "      <td>609</td>\n",
       "    </tr>\n",
       "    <tr>\n",
       "      <th>9</th>\n",
       "      <td>2748</td>\n",
       "      <td>370</td>\n",
       "    </tr>\n",
       "  </tbody>\n",
       "</table>\n",
       "</div>"
      ],
      "text/plain": [
       "   userId  number_of_movies\n",
       "2     245               594\n",
       "3     328               930\n",
       "5     702              1113\n",
       "6    1707               609\n",
       "9    2748               370"
      ]
     },
     "execution_count": 43,
     "metadata": {},
     "output_type": "execute_result"
    }
   ],
   "source": [
    "final_users = number_movies[number_movies[\"number_of_movies\"] >= 100]\n",
    "print(final_users.shape)\n",
    "final_users.head()"
   ]
  },
  {
   "cell_type": "code",
   "execution_count": 44,
   "metadata": {
    "execution": {
     "iopub.execute_input": "2022-06-13T15:27:42.005850Z",
     "iopub.status.busy": "2022-06-13T15:27:42.005500Z",
     "iopub.status.idle": "2022-06-13T15:27:42.035529Z",
     "shell.execute_reply": "2022-06-13T15:27:42.034583Z",
     "shell.execute_reply.started": "2022-06-13T15:27:42.005816Z"
    },
    "executionInfo": {
     "elapsed": 15,
     "status": "ok",
     "timestamp": 1655128383949,
     "user": {
      "displayName": "Алексей Шаков",
      "userId": "08626621059682709172"
     },
     "user_tz": -180
    },
    "id": "UJx8Zc7Eu5aj",
    "outputId": "b4806a03-48ab-4ee2-cffd-3f5f56b387a8",
    "trusted": true
   },
   "outputs": [
    {
     "name": "stdout",
     "output_type": "stream",
     "text": [
      "(522207, 4)\n"
     ]
    },
    {
     "data": {
      "text/html": [
       "<div>\n",
       "<style scoped>\n",
       "    .dataframe tbody tr th:only-of-type {\n",
       "        vertical-align: middle;\n",
       "    }\n",
       "\n",
       "    .dataframe tbody tr th {\n",
       "        vertical-align: top;\n",
       "    }\n",
       "\n",
       "    .dataframe thead th {\n",
       "        text-align: right;\n",
       "    }\n",
       "</style>\n",
       "<table border=\"1\" class=\"dataframe\">\n",
       "  <thead>\n",
       "    <tr style=\"text-align: right;\">\n",
       "      <th></th>\n",
       "      <th>userId</th>\n",
       "      <th>movieId</th>\n",
       "      <th>rating</th>\n",
       "      <th>date</th>\n",
       "    </tr>\n",
       "  </thead>\n",
       "  <tbody>\n",
       "    <tr>\n",
       "      <th>37943</th>\n",
       "      <td>245</td>\n",
       "      <td>1</td>\n",
       "      <td>3.0</td>\n",
       "      <td>1970-01-01</td>\n",
       "    </tr>\n",
       "    <tr>\n",
       "      <th>37944</th>\n",
       "      <td>245</td>\n",
       "      <td>2</td>\n",
       "      <td>3.5</td>\n",
       "      <td>1970-01-01</td>\n",
       "    </tr>\n",
       "    <tr>\n",
       "      <th>37945</th>\n",
       "      <td>245</td>\n",
       "      <td>39</td>\n",
       "      <td>4.0</td>\n",
       "      <td>1970-01-01</td>\n",
       "    </tr>\n",
       "    <tr>\n",
       "      <th>37946</th>\n",
       "      <td>245</td>\n",
       "      <td>47</td>\n",
       "      <td>3.5</td>\n",
       "      <td>1970-01-01</td>\n",
       "    </tr>\n",
       "    <tr>\n",
       "      <th>37947</th>\n",
       "      <td>245</td>\n",
       "      <td>48</td>\n",
       "      <td>4.5</td>\n",
       "      <td>1970-01-01</td>\n",
       "    </tr>\n",
       "  </tbody>\n",
       "</table>\n",
       "</div>"
      ],
      "text/plain": [
       "       userId  movieId  rating        date\n",
       "37943     245        1     3.0  1970-01-01\n",
       "37944     245        2     3.5  1970-01-01\n",
       "37945     245       39     4.0  1970-01-01\n",
       "37946     245       47     3.5  1970-01-01\n",
       "37947     245       48     4.5  1970-01-01"
      ]
     },
     "execution_count": 44,
     "metadata": {},
     "output_type": "execute_result"
    }
   ],
   "source": [
    "final_ratings = special_ratings_data[special_ratings_data[\"userId\"].isin(final_users[\"userId\"])]\n",
    "print(final_ratings.shape)\n",
    "final_ratings.head()"
   ]
  },
  {
   "cell_type": "markdown",
   "metadata": {
    "id": "c_TSAKHfu5ak"
   },
   "source": [
    "## Global train-test"
   ]
  },
  {
   "cell_type": "code",
   "execution_count": 45,
   "metadata": {
    "execution": {
     "iopub.execute_input": "2022-06-13T15:27:42.037408Z",
     "iopub.status.busy": "2022-06-13T15:27:42.037053Z",
     "iopub.status.idle": "2022-06-13T15:27:42.675020Z",
     "shell.execute_reply": "2022-06-13T15:27:42.674240Z",
     "shell.execute_reply.started": "2022-06-13T15:27:42.037374Z"
    },
    "executionInfo": {
     "elapsed": 971,
     "status": "ok",
     "timestamp": 1655128384909,
     "user": {
      "displayName": "Алексей Шаков",
      "userId": "08626621059682709172"
     },
     "user_tz": -180
    },
    "id": "pMneK99Mu5ak",
    "outputId": "f342178b-1fd8-45f0-dbf4-e6c6f6fb424d",
    "trusted": true
   },
   "outputs": [
    {
     "name": "stdout",
     "output_type": "stream",
     "text": [
      "(32350, 4)\n"
     ]
    },
    {
     "data": {
      "text/html": [
       "<div>\n",
       "<style scoped>\n",
       "    .dataframe tbody tr th:only-of-type {\n",
       "        vertical-align: middle;\n",
       "    }\n",
       "\n",
       "    .dataframe tbody tr th {\n",
       "        vertical-align: top;\n",
       "    }\n",
       "\n",
       "    .dataframe thead th {\n",
       "        text-align: right;\n",
       "    }\n",
       "</style>\n",
       "<table border=\"1\" class=\"dataframe\">\n",
       "  <thead>\n",
       "    <tr style=\"text-align: right;\">\n",
       "      <th></th>\n",
       "      <th>userId</th>\n",
       "      <th>movieId</th>\n",
       "      <th>rating</th>\n",
       "      <th>date</th>\n",
       "    </tr>\n",
       "  </thead>\n",
       "  <tbody>\n",
       "    <tr>\n",
       "      <th>0</th>\n",
       "      <td>245</td>\n",
       "      <td>161966</td>\n",
       "      <td>3.5</td>\n",
       "      <td>1970-01-01</td>\n",
       "    </tr>\n",
       "    <tr>\n",
       "      <th>1</th>\n",
       "      <td>245</td>\n",
       "      <td>162608</td>\n",
       "      <td>3.5</td>\n",
       "      <td>1970-01-01</td>\n",
       "    </tr>\n",
       "    <tr>\n",
       "      <th>2</th>\n",
       "      <td>245</td>\n",
       "      <td>164899</td>\n",
       "      <td>4.0</td>\n",
       "      <td>1970-01-01</td>\n",
       "    </tr>\n",
       "    <tr>\n",
       "      <th>3</th>\n",
       "      <td>245</td>\n",
       "      <td>164909</td>\n",
       "      <td>4.5</td>\n",
       "      <td>1970-01-01</td>\n",
       "    </tr>\n",
       "    <tr>\n",
       "      <th>4</th>\n",
       "      <td>245</td>\n",
       "      <td>165413</td>\n",
       "      <td>2.5</td>\n",
       "      <td>1970-01-01</td>\n",
       "    </tr>\n",
       "  </tbody>\n",
       "</table>\n",
       "</div>"
      ],
      "text/plain": [
       "   userId  movieId  rating        date\n",
       "0     245   161966     3.5  1970-01-01\n",
       "1     245   162608     3.5  1970-01-01\n",
       "2     245   164899     4.0  1970-01-01\n",
       "3     245   164909     4.5  1970-01-01\n",
       "4     245   165413     2.5  1970-01-01"
      ]
     },
     "execution_count": 45,
     "metadata": {},
     "output_type": "execute_result"
    }
   ],
   "source": [
    "# forming test dataset\n",
    "for_test = []\n",
    "for user in final_ratings[\"userId\"].unique():\n",
    "    for_test.append(final_ratings[final_ratings[\"userId\"] == user].iloc[-50:])\n",
    "global_test = pd.concat(for_test, ignore_index=True)\n",
    "print(global_test.shape)\n",
    "global_test.head()"
   ]
  },
  {
   "cell_type": "code",
   "execution_count": 46,
   "metadata": {
    "execution": {
     "iopub.execute_input": "2022-06-13T15:27:42.676930Z",
     "iopub.status.busy": "2022-06-13T15:27:42.676141Z",
     "iopub.status.idle": "2022-06-13T15:27:43.027935Z",
     "shell.execute_reply": "2022-06-13T15:27:43.027164Z",
     "shell.execute_reply.started": "2022-06-13T15:27:42.676893Z"
    },
    "executionInfo": {
     "elapsed": 630,
     "status": "ok",
     "timestamp": 1655128385524,
     "user": {
      "displayName": "Алексей Шаков",
      "userId": "08626621059682709172"
     },
     "user_tz": -180
    },
    "id": "0N9iV4bOu5ak",
    "outputId": "5ba272ea-3888-48fa-853f-3800d216357e",
    "trusted": true
   },
   "outputs": [
    {
     "name": "stdout",
     "output_type": "stream",
     "text": [
      "(489857, 4)\n"
     ]
    },
    {
     "data": {
      "text/html": [
       "<div>\n",
       "<style scoped>\n",
       "    .dataframe tbody tr th:only-of-type {\n",
       "        vertical-align: middle;\n",
       "    }\n",
       "\n",
       "    .dataframe tbody tr th {\n",
       "        vertical-align: top;\n",
       "    }\n",
       "\n",
       "    .dataframe thead th {\n",
       "        text-align: right;\n",
       "    }\n",
       "</style>\n",
       "<table border=\"1\" class=\"dataframe\">\n",
       "  <thead>\n",
       "    <tr style=\"text-align: right;\">\n",
       "      <th></th>\n",
       "      <th>userId</th>\n",
       "      <th>movieId</th>\n",
       "      <th>rating</th>\n",
       "      <th>date</th>\n",
       "    </tr>\n",
       "  </thead>\n",
       "  <tbody>\n",
       "    <tr>\n",
       "      <th>0</th>\n",
       "      <td>245</td>\n",
       "      <td>1</td>\n",
       "      <td>3.0</td>\n",
       "      <td>1970-01-01</td>\n",
       "    </tr>\n",
       "    <tr>\n",
       "      <th>1</th>\n",
       "      <td>245</td>\n",
       "      <td>2</td>\n",
       "      <td>3.5</td>\n",
       "      <td>1970-01-01</td>\n",
       "    </tr>\n",
       "    <tr>\n",
       "      <th>2</th>\n",
       "      <td>245</td>\n",
       "      <td>39</td>\n",
       "      <td>4.0</td>\n",
       "      <td>1970-01-01</td>\n",
       "    </tr>\n",
       "    <tr>\n",
       "      <th>3</th>\n",
       "      <td>245</td>\n",
       "      <td>47</td>\n",
       "      <td>3.5</td>\n",
       "      <td>1970-01-01</td>\n",
       "    </tr>\n",
       "    <tr>\n",
       "      <th>4</th>\n",
       "      <td>245</td>\n",
       "      <td>48</td>\n",
       "      <td>4.5</td>\n",
       "      <td>1970-01-01</td>\n",
       "    </tr>\n",
       "  </tbody>\n",
       "</table>\n",
       "</div>"
      ],
      "text/plain": [
       "   userId  movieId  rating        date\n",
       "0     245        1     3.0  1970-01-01\n",
       "1     245        2     3.5  1970-01-01\n",
       "2     245       39     4.0  1970-01-01\n",
       "3     245       47     3.5  1970-01-01\n",
       "4     245       48     4.5  1970-01-01"
      ]
     },
     "execution_count": 46,
     "metadata": {},
     "output_type": "execute_result"
    }
   ],
   "source": [
    "global_train = pd.merge(final_ratings,global_test, indicator=True, how='outer').query('_merge==\"left_only\"').drop('_merge', axis=1)\n",
    "print(global_train.shape)\n",
    "global_train.head()"
   ]
  },
  {
   "cell_type": "code",
   "execution_count": 47,
   "metadata": {
    "execution": {
     "iopub.execute_input": "2022-06-13T15:27:43.029861Z",
     "iopub.status.busy": "2022-06-13T15:27:43.029455Z",
     "iopub.status.idle": "2022-06-13T15:27:43.044222Z",
     "shell.execute_reply": "2022-06-13T15:27:43.043504Z",
     "shell.execute_reply.started": "2022-06-13T15:27:43.029822Z"
    },
    "executionInfo": {
     "elapsed": 35,
     "status": "ok",
     "timestamp": 1655128385526,
     "user": {
      "displayName": "Алексей Шаков",
      "userId": "08626621059682709172"
     },
     "user_tz": -180
    },
    "id": "1WpMQ0mZu5al",
    "outputId": "c6b9b068-1c82-43b1-a297-a74d9c79adba",
    "trusted": true
   },
   "outputs": [
    {
     "data": {
      "text/plain": [
       "True"
      ]
     },
     "execution_count": 47,
     "metadata": {},
     "output_type": "execute_result"
    }
   ],
   "source": [
    "# let's check if all users from test dataset are in train\n",
    "all(global_test[\"userId\"].isin(global_train[\"userId\"]))"
   ]
  },
  {
   "cell_type": "markdown",
   "metadata": {},
   "source": [
    "## Model Development"
   ]
  },
  {
   "cell_type": "code",
   "execution_count": null,
   "metadata": {},
   "outputs": [],
   "source": []
  }
 ],
 "metadata": {
  "kernelspec": {
   "display_name": ".venv",
   "language": "python",
   "name": "python3"
  },
  "language_info": {
   "codemirror_mode": {
    "name": "ipython",
    "version": 3
   },
   "file_extension": ".py",
   "mimetype": "text/x-python",
   "name": "python",
   "nbconvert_exporter": "python",
   "pygments_lexer": "ipython3",
   "version": "3.13.1"
  }
 },
 "nbformat": 4,
 "nbformat_minor": 4
}
